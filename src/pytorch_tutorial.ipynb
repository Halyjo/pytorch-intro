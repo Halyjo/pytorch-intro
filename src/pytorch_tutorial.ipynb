{
 "cells": [
  {
   "cell_type": "markdown",
   "metadata": {
    "vscode": {
     "languageId": "plaintext"
    }
   },
   "source": [
    "# PyTorch Tutorial: Building and Training a CNN from Scratch\n",
    "\n",
    "## Assumed Prior Knowledge\n",
    "This tutorial is intended for graduate students in deep learning who are already familiar with the basics of neural networks and numpy, but have not seen PyTorch before. Knowledge about the forward and backward passes for convolutional and fully connected layers is also assumed.\n",
    "\n",
    "## Learning Outcomes \n",
    "By the end of this tutorial, you will be able to: \n",
    "\n",
    "1. **Work with PyTorch Tensors:** Create and manipulate tensors in PyTorch and understand how to move computations to the GPU for acceleration. \n",
    "\n",
    "2. **Get the gradient of a function with respect to its input:** Use PyTorch's `autograd` to compute gradients of a function with respect to its inputs.\n",
    "\n",
    "<!-- 3. **Train a Small NN:** Create the main components of a neural network (layers, activation functions, loss functions, and optimizers) and train a simple neural network on a toy dataset.  ?? -->\n",
    "\n",
    "2. **Build a Convolutional Neural Network (CNN):** Define a simple CNN architecture in pytorch using `torch.nn.Module`, including convolutional layers, activation functions, and fully connected layers.\n",
    "\n",
    "3. **Train a Model End-to-End:** Implement a training loop that performs forward passes, computes loss, performs backpropagation, and updates parameters with an optimizer. You’ll also learn to monitor training progress and performance during training (e.g. tracking loss over epochs).\n",
    "\n",
    "<!-- 4. **Handle Datasets Efficiently:** \n",
    "The main components in the pytorch framework for handling data is the `Dataset` and `DataLoader` classes. \n",
    "\n",
    "    1.  `torch.utils.data.Dataset` - an abstract class representing a dataset. Your custom dataset should subclass it and override `__len__` and `__getitem__`. \n",
    "\n",
    "    2.  `torch.utils.data.DataLoader` - wraps a dataset and provides an iterable over batches of samples. It also handles shuffling and loading data in parallel. -->\n",
    "\n",
    "<!-- We will go through how to use these and why they are useful, but first, we will start with a subclass of `Dataset`: the `torch.utils.data.ImageFolder` which fits our data perfectly to focus on the main process of training a model. -->\n",
    "\n",
    "5. **Modify and Experiment with the Pipeline:** Easily swap in a different dataset or change the model architecture (e.g. add more layers or dropout) with minimal code changes. You’ll also see how to adapt the same training code for a different task and my hope is that you will feel comfortable experimenting with different hyperparameters and model designs. \n",
    "\n",
    "6. **Evaluate and Debug Models:** Identify signs of overfitting vs. underfitting during training and apply remedies (like adjusting learning rate, changing batch size, or adding regularization). You’ll also practice saving model checkpoints and using basic logging to track experiments for debugging and improving training runs.\n",
    "\n",
    "**Tutorial Structure:** The idea is that you should follow along with your own laptop and run the code as we go. I will explain each step and give you time to try it out. I will also provide some exercises for you to practice on your own.\n",
    "\n",
    "--- "
   ]
  },
  {
   "cell_type": "markdown",
   "metadata": {
    "vscode": {
     "languageId": "markdown"
    }
   },
   "source": [
    "## Part 1: Introduction to PyTorch Tensors\n"
   ]
  },
  {
   "cell_type": "markdown",
   "metadata": {},
   "source": [
    "\n",
    "### 1.1 Working with PyTorch Tensors (and GPUs)"
   ]
  },
  {
   "cell_type": "markdown",
   "metadata": {},
   "source": [
    "\n",
    "#### 1.1.1 Similarities between `numpy.ndarray` and `torch.Tensor`\n",
    "PyTorch’s core data structure is the **Tensor**, an n-dimensional array much like NumPy’s `ndarray`, with additional features such as GPU support and automatic differentiation.  \n",
    "📚 [PyTorch Documentation on Tensors](https://pytorch.org/tutorials/beginner/pytorch_with_examples.html#tensors)\n"
   ]
  },
  {
   "cell_type": "code",
   "execution_count": 2,
   "metadata": {},
   "outputs": [
    {
     "name": "stdout",
     "output_type": "stream",
     "text": [
      "Numpy\n",
      "------\n",
      "[[1 2]\n",
      " [3 4]]\n",
      "int64 (2, 2)\n",
      "[1 2]\n",
      "1\n",
      "[1 3]\n",
      "[[ True False]\n",
      " [False False]]\n",
      "[[ 1.57393107 -0.02987315]\n",
      " [-1.7381737   0.66322832]]\n",
      "\n",
      "PyTorch\n",
      "------\n",
      "tensor([[1, 2],\n",
      "        [3, 4]])\n",
      "torch.int64 torch.Size([2, 2])\n",
      "tensor([1, 2])\n",
      "tensor(1)\n",
      "tensor([1, 3])\n",
      "tensor([[ True, False],\n",
      "        [False, False]])\n",
      "tensor([[-0.0945, -0.1519],\n",
      "        [-0.5760,  1.8791]])\n"
     ]
    }
   ],
   "source": [
    "## Similarities between numpy and pytorch\n",
    "import numpy as np\n",
    "import torch\n",
    "\n",
    "\n",
    "## numpy\n",
    "print(\"Numpy\\n------\")\n",
    "x = np.array([[1, 2], [3, 4]])\n",
    "print(x)\n",
    "print(x.dtype, x.shape)\n",
    "x.sum(0)\n",
    "print(x[0])\n",
    "print(x[0, 0])\n",
    "print(x[:, 0])\n",
    "print(x == 1)\n",
    "\n",
    "grid = np.random.randn(2, 2)\n",
    "print(grid)\n",
    "\n",
    "print()\n",
    "\n",
    "\n",
    "## pytorch\n",
    "print(\"PyTorch\\n------\")\n",
    "x = torch.tensor([[1, 2], [3, 4]])\n",
    "print(x)\n",
    "print(x.dtype, x.shape)\n",
    "x.sum(0)\n",
    "print(x[0])\n",
    "print(x[0, 0])\n",
    "print(x[:, 0])\n",
    "print(x == 1)\n",
    "\n",
    "grid = torch.randn(2, 2)\n",
    "print(grid)"
   ]
  },
  {
   "cell_type": "markdown",
   "metadata": {},
   "source": [
    "Similarities (think of PyTorch as a GPU-accelerated NumPy):\n",
    "- Indexing and slicing syntax are identical\n",
    "- Data types and shapes behave similarly\n",
    "- Operations like `.sum()`, element-wise comparison, etc. feel the same"
   ]
  },
  {
   "cell_type": "markdown",
   "metadata": {
    "vscode": {
     "languageId": "latex"
    }
   },
   "source": [
    "#### 1.1.2 Important differences between `numpy.ndarray` and `torch.Tensor`\n",
    "| Feature | numpy.ndarray | torch.Tensor |\n",
    "--- | --- | ---| \n",
    "| GPU support | ❌ CPU only | ✅ GPU or CPU |\n",
    "| Automatic differentiation | ❌ Not supported | ✅ `.requires_grad` and `.backward()` |\n",
    "| In-place operation safety | Not enforced | ⚠️ Can interfere with autograd |\n",
    "| Integration with deep learning frameworks | ❌ | ✅ Seamless integration (nn, optim, etc.) |\n",
    "\n"
   ]
  },
  {
   "cell_type": "code",
   "execution_count": 6,
   "metadata": {},
   "outputs": [
    {
     "name": "stdout",
     "output_type": "stream",
     "text": [
      "cpu\n",
      "cpu\n",
      "RuntimeError: a leaf Variable that requires grad is being used in an in-place operation.\n"
     ]
    }
   ],
   "source": [
    "# Move tensor to GPU/mac metal if available\n",
    "# device = torch.device(\n",
    "#     torch.accelerator.current_accelerator()\n",
    "#     if torch.accelerator.is_available()\n",
    "#     else \"cpu\"\n",
    "# )\n",
    "device = torch.device(\"cuda\" if torch.cuda.is_available() else \"cpu\")\n",
    "print(device)\n",
    "x = x.to(device)\n",
    "print(x.device)\n",
    "\n",
    "# In-place operation caveat\n",
    "a = torch.tensor([1.0, 2.0], requires_grad=True)\n",
    "try:\n",
    "    a += 1  ## in-place operations with grad are not allowed\n",
    "except RuntimeError as e:\n",
    "    print(f\"RuntimeError: {e}\")"
   ]
  },
  {
   "cell_type": "markdown",
   "metadata": {},
   "source": [
    "#### 1.1.3 Conversion between `numpy.ndarray` and `torch.Tensor`"
   ]
  },
  {
   "cell_type": "code",
   "execution_count": 7,
   "metadata": {},
   "outputs": [
    {
     "name": "stdout",
     "output_type": "stream",
     "text": [
      "<class 'torch.Tensor'> tensor([[1, 2],\n",
      "        [3, 4]])\n",
      "<class 'numpy.ndarray'> [[1 2]\n",
      " [3 4]]\n"
     ]
    }
   ],
   "source": [
    "# NumPy to PyTorch (straightforward)\n",
    "x_np = np.array([[1, 2], [3, 4]])\n",
    "x_torch = torch.from_numpy(x_np)\n",
    "print(type(x_torch), x_torch)\n",
    "\n",
    "# PyTorch to NumPy (not so straightforward)\n",
    "x_back = x_torch.numpy()\n",
    "## If requires_grad=True, then we must explicitly throw away the gradient information using detach()\n",
    "x_back = x_torch.detach().numpy()\n",
    "## if on the gpu as well we need to move it to the cpu first\n",
    "x_back = x_torch.detach().cpu().numpy()\n",
    "print(type(x_back), x_back)"
   ]
  },
  {
   "cell_type": "markdown",
   "metadata": {},
   "source": [
    "**Memory sharing alert!:**\n",
    "- `from_numpy()` creates a tensor that shares memory with the original array.\n",
    "- Changes to the NumPy array will affect the tensor (and vice versa)."
   ]
  },
  {
   "cell_type": "code",
   "execution_count": 8,
   "metadata": {},
   "outputs": [
    {
     "name": "stdout",
     "output_type": "stream",
     "text": [
      "Torch tensor after modifying original NumPy array: tensor([[999,   2],\n",
      "        [  3,   4]])\n"
     ]
    }
   ],
   "source": [
    "x_np[0, 0] = 999\n",
    "print(\"Torch tensor after modifying original NumPy array:\", x_torch)"
   ]
  },
  {
   "cell_type": "markdown",
   "metadata": {},
   "source": [
    "#### 1.1.4 Gradients and Automatic Differentiation (the simple way)\n",
    "PyTorch’s `autograd` package provides automatic differentiation for all operations on Tensors. It does this by keeping track of operations performed on Tensors and calculating the gradients with respect to the input. \n",
    "\n",
    "In the first mandatory assignment, we built a network that kept track of activations and gradients for each layer separately. In pytorch, gradients are kept track of automatically and stored in the `.grad` attribute of each tensor.\n",
    "\n",
    "**Example:**"
   ]
  },
  {
   "cell_type": "code",
   "execution_count": 11,
   "metadata": {},
   "outputs": [
    {
     "name": "stdout",
     "output_type": "stream",
     "text": [
      "x=tensor(2., requires_grad=True)\n",
      "out=tensor(8., grad_fn=<PowBackward0>)\n",
      "x.grad=tensor(12.)\n"
     ]
    }
   ],
   "source": [
    "x = torch.tensor(2.0, requires_grad=True)\n",
    "\n",
    "\n",
    "def f(x):\n",
    "    return x**3\n",
    "\n",
    "\n",
    "out = f(x)\n",
    "\n",
    "## Compute the gradient of the output with respect to the input(s)\n",
    "## Note that this needs to be a scalar or be given a vector of the same shape as the output\n",
    "out.backward()\n",
    "\n",
    "print(f\"{x=}\")\n",
    "print(f\"{out=}\")\n",
    "print(f\"{x.grad=}\")"
   ]
  },
  {
   "cell_type": "markdown",
   "metadata": {},
   "source": [
    "**Notice:**\n",
    "\n",
    "`out`  is a scalar here. \n",
    "If not, we would need to provide a vector of the same shape as `out` to `backward()`, similar to the $\\delta$-values in the mandatory assignment."
   ]
  },
  {
   "cell_type": "markdown",
   "metadata": {},
   "source": [
    "--- "
   ]
  },
  {
   "cell_type": "markdown",
   "metadata": {},
   "source": [
    "### 1.2 Exercises for Working with PyTorch Tensors (and GPUs)"
   ]
  },
  {
   "cell_type": "markdown",
   "metadata": {},
   "source": [
    "#### Ex. 1 Memory sharing: Who's in change?"
   ]
  },
  {
   "cell_type": "code",
   "execution_count": 12,
   "metadata": {},
   "outputs": [
    {
     "name": "stdout",
     "output_type": "stream",
     "text": [
      "Modified NumPy array:\n",
      " [[999   1   2]\n",
      " [  3   4   5]\n",
      " [  6   7   8]]\n",
      "Modified Tensor:\n",
      " tensor([[999,   1,   2],\n",
      "        [  3,   4,   5],\n",
      "        [  6,   7,   8]])\n"
     ]
    }
   ],
   "source": [
    "import numpy as np\n",
    "import torch\n",
    "\n",
    "# Step 1: Create a NumPy array and convert it to a torch tensor\n",
    "arr = np.arange(9).reshape(3, 3)\n",
    "tensor = torch.from_numpy(arr)\n",
    "\n",
    "# Step 2: Modify the torch tensor\n",
    "tensor[0, 0] = 999\n",
    "\n",
    "# Step 3: Print both\n",
    "print(\"Modified NumPy array:\\n\", arr)\n",
    "print(\"Modified Tensor:\\n\", tensor)"
   ]
  },
  {
   "cell_type": "markdown",
   "metadata": {},
   "source": [
    "**Questions**\n",
    "1. Is the relationship symmetric?\n",
    "2. How can you break this connection and make a safe copy? (Experiment with `.clone()`, `.detach()`, and `.copy()`)"
   ]
  },
  {
   "cell_type": "markdown",
   "metadata": {},
   "source": [
    "---\n",
    "\n",
    "**Okay! Now we have covered the basics of working with PyTorch tensors. Let's move on to the next section where we will build and train a simple Deep Learning model.**"
   ]
  },
  {
   "cell_type": "markdown",
   "metadata": {},
   "source": [
    "## Part 2: Building and Training a Neural Network"
   ]
  },
  {
   "cell_type": "markdown",
   "metadata": {},
   "source": [
    "### Overview"
   ]
  },
  {
   "cell_type": "markdown",
   "metadata": {},
   "source": [
    "We’ll now walk through the full process of defining, training, and evaluating a CNN using PyTorch. We'll work step by step:\n",
    "1. Datasets and Dataloaders\n",
    "2. Model\n",
    "3. Loss \n",
    "4. Optimizer\n",
    "5. Metric (**quality measure**) to evaluate the model\n",
    "6. Evaluation of the model\n",
    "7. Train model (forward, backward, update parameters)\n",
    "8. Evaluate model performance on test set\n",
    "9. Save and load model\n",
    "10. Make predictions on new data\n",
    "<!-- 11. Custom dataset and dataloaders -->\n"
   ]
  },
  {
   "cell_type": "markdown",
   "metadata": {},
   "source": [
    "### 2.1 Dataset and Dataloaders"
   ]
  },
  {
   "cell_type": "markdown",
   "metadata": {},
   "source": [
    "At this point. I will just give you a dataset to start working with to get the process going. However, we will revisit datasets and dataloaders after we have trained the network. **Do not worry if the next cell is confusing, we will go through the important parts later**."
   ]
  },
  {
   "cell_type": "code",
   "execution_count": 13,
   "metadata": {},
   "outputs": [
    {
     "name": "stdout",
     "output_type": "stream",
     "text": [
      "Number of training examples: 50000\n",
      "Number of validation examples: 10000\n",
      "Number of testing examples: 10000\n",
      "Number of training batches: 782\n",
      "Number of validation batches: 157\n",
      "Number of testing batches: 157\n"
     ]
    }
   ],
   "source": [
    "## MNIST Data\n",
    "import torch\n",
    "import torchvision\n",
    "import torchvision.transforms as transforms\n",
    "import matplotlib.pyplot as plt\n",
    "import random\n",
    "\n",
    "classes = list(range(10))\n",
    "## Download and split the dataset into training, validation, and test sets\n",
    "train_val_data = torchvision.datasets.MNIST(\n",
    "    root=\"../data\", train=True, download=True, transform=transforms.ToTensor()\n",
    ")\n",
    "train_dataset, val_dataset = torch.utils.data.random_split(\n",
    "    train_val_data, [50000, 10000]\n",
    ")\n",
    "\n",
    "test_dataset = torchvision.datasets.MNIST(\n",
    "    root=\"../data\", train=False, download=True, transform=transforms.ToTensor()\n",
    ")\n",
    "\n",
    "print(f\"Number of training examples: {len(train_dataset)}\")\n",
    "print(f\"Number of validation examples: {len(val_dataset)}\")\n",
    "print(f\"Number of testing examples: {len(test_dataset)}\")\n",
    "## Create data loaders\n",
    "train_dataloader = torch.utils.data.DataLoader(\n",
    "    dataset=train_dataset, batch_size=64, shuffle=True\n",
    ")\n",
    "val_dataloader = torch.utils.data.DataLoader(\n",
    "    dataset=val_dataset, batch_size=64, shuffle=False\n",
    ")\n",
    "test_dataloader = torch.utils.data.DataLoader(\n",
    "    dataset=test_dataset, batch_size=64, shuffle=False\n",
    ")\n",
    "\n",
    "print(f\"Number of training batches: {len(train_dataloader)}\")\n",
    "print(f\"Number of validation batches: {len(val_dataloader)}\")\n",
    "print(f\"Number of testing batches: {len(test_dataloader)}\")"
   ]
  },
  {
   "cell_type": "code",
   "execution_count": 14,
   "metadata": {},
   "outputs": [
    {
     "data": {
      "image/png": "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",
      "text/plain": [
       "<Figure size 1500x500 with 20 Axes>"
      ]
     },
     "metadata": {},
     "output_type": "display_data"
    }
   ],
   "source": [
    "def plot_examples(mnist_dataset, model=None):\n",
    "    fig, axes = plt.subplots(2, 10, figsize=(15, 5))\n",
    "    for i, ax in enumerate(axes.flat):\n",
    "        ## Get a random image from the dataset\n",
    "        idx = random.randint(0, len(mnist_dataset))\n",
    "        img, label = mnist_dataset[idx]\n",
    "        ax.imshow(img[0], cmap=\"gray\")\n",
    "\n",
    "        ## add prediction if model is provided\n",
    "        if model is not None:\n",
    "            ## Apply the model to the image\n",
    "            pred = model(img.unsqueeze(0)).detach().numpy()\n",
    "            pred_label = pred.argmax()\n",
    "            ax.set_title(f\"Label: {label}\\nPred: {pred_label}\")\n",
    "        else:\n",
    "            ax.set_title(f\"Label: {label}\")\n",
    "\n",
    "        ax.axis(\"off\")\n",
    "    plt.tight_layout()\n",
    "    plt.show()\n",
    "\n",
    "\n",
    "plot_examples(test_dataset)"
   ]
  },
  {
   "cell_type": "code",
   "execution_count": 15,
   "metadata": {},
   "outputs": [],
   "source": [
    "# ## CIFAR-10 Data (similar to MNIST, but with color images), image size is 3x32x32\n",
    "# import torch\n",
    "# import torchvision\n",
    "# import torchvision.transforms as transforms\n",
    "# import matplotlib.pyplot as plt\n",
    "# import numpy as np\n",
    "\n",
    "# ## Constants\n",
    "# batch_size = 4\n",
    "\n",
    "\n",
    "# ## Define the transformation to apply to the images\n",
    "# transform = transforms.Compose(\n",
    "#     [\n",
    "#         transforms.ToTensor(), ## Converts the image to a PyTorch tensor and scales the pixel intensity values in the range [0, 1]\n",
    "#         transforms.Normalize((0.5, 0.5, 0.5), (0.5, 0.5, 0.5)),\n",
    "#     ]\n",
    "# )\n",
    "\n",
    "# ## Download (if necessary) and load the CIFAR-10 dataset\n",
    "# train_val_data = torchvision.datasets.CIFAR10(\n",
    "#     root=\"../data\", train=True, download=True, transform=transform\n",
    "# )\n",
    "\n",
    "# ## Split the dataset into training and validation sets (one the model can see, the other it can't)\n",
    "# train_dataset, val_dataset = torch.utils.data.random_split(train_val_data, [40000, 10000])\n",
    "\n",
    "\n",
    "# train_dataloader = torch.utils.data.DataLoader(\n",
    "#     train_dataset, batch_size=batch_size, shuffle=True, num_workers=2\n",
    "# )\n",
    "\n",
    "# val_dataloader = torch.utils.data.DataLoader(\n",
    "#     val_dataset, batch_size=batch_size, shuffle=False, num_workers=2\n",
    "# )\n",
    "\n",
    "# ## Load the test set\n",
    "# test_dataset = torchvision.datasets.CIFAR10(\n",
    "#     root=\"../data\", train=False, download=True, transform=transform\n",
    "# )\n",
    "# test_dataloader = torch.utils.data.DataLoader(\n",
    "#     test_dataset, batch_size=batch_size, shuffle=False, num_workers=2\n",
    "# )\n",
    "\n",
    "# classes = (\n",
    "#     \"plane\",\n",
    "#     \"car\",\n",
    "#     \"bird\",\n",
    "#     \"cat\",\n",
    "#     \"deer\",\n",
    "#     \"dog\",\n",
    "#     \"frog\",\n",
    "#     \"horse\",\n",
    "#     \"ship\",\n",
    "#     \"truck\",\n",
    "# )\n",
    "\n",
    "\n",
    "# def show_cifar_batch(batch):\n",
    "#     images, labels = batch\n",
    "#     batch_size = len(images)\n",
    "#     grid = torchvision.utils.make_grid(images, nrow=batch_size)\n",
    "#     grid = grid.numpy().transpose((1, 2, 0))\n",
    "#     grid = grid / 2 + 0.5\n",
    "#     plt.imshow(grid)\n",
    "#     plt.axis(\"off\")\n",
    "#     plt.show()\n",
    "#     print(\" \".join(f\"{classes[labels[j]]:15s}\" for j in range(batch_size)))\n",
    "\n",
    "\n",
    "# # get some random training images\n",
    "# dataiter = iter(train_dataloader)\n",
    "# images, labels = next(dataiter)\n",
    "\n",
    "# # show images\n",
    "# show_cifar_batch((images, labels))"
   ]
  },
  {
   "cell_type": "code",
   "execution_count": 16,
   "metadata": {},
   "outputs": [
    {
     "name": "stdout",
     "output_type": "stream",
     "text": [
      "torch.Size([64, 1, 28, 28])\n",
      "torch.Size([64])\n"
     ]
    }
   ],
   "source": [
    "## Understand the data format\n",
    "images, labels = next(iter(train_dataloader))\n",
    "print(images.shape)\n",
    "print(labels.shape)"
   ]
  },
  {
   "cell_type": "code",
   "execution_count": 17,
   "metadata": {},
   "outputs": [],
   "source": [
    "# ## Home made data\n",
    "# from torch.utils.data import DataLoader\n",
    "# from torchvision.datasets import ImageFolder\n",
    "# from torchvision.transforms import ToTensor, Compose, Resize\n",
    "\n",
    "\n",
    "# ## Preprocessing pipeline\n",
    "# data_path = \"/Users/hjo109/Documents/data/ForDemo\"\n",
    "# transform = Compose([Resize((64, 64)), ToTensor()])\n",
    "# dataset = ImageFolder(root=data_path, transform=transform)\n",
    "\n",
    "# train_dataset, val_dataset, test_dataset = torch.utils.data.random_split(\n",
    "#     dataset, [0.6, 0.2, 0.2]\n",
    "# )\n",
    "\n",
    "# train_dataloader = DataLoader(train_dataset, batch_size=2, shuffle=True)\n",
    "# val_dataloader = DataLoader(val_dataset, batch_size=2, shuffle=False)\n",
    "# test_dataloader = DataLoader(test_dataset, batch_size=2, shuffle=False)\n",
    "\n",
    "# print(f\"Number of training batches: {len(train_dataloader)}\")\n",
    "\n",
    "\n",
    "# def plot_data_grid(data_loader):\n",
    "#     classes = data_loader.dataset.dataset.classes\n",
    "#     fig, axes = plt.subplots(3, 3)\n",
    "#     axes = axes.flatten()\n",
    "#     for i, (image, label) in enumerate(data_loader):\n",
    "#         ax = axes[i]\n",
    "#         ax.imshow(image[0].permute(1, 2, 0))\n",
    "#         ax.set_title(classes[label[0].item()])\n",
    "#         ax.axis(\"off\")\n",
    "#         if i == 8:\n",
    "#             break\n",
    "#     plt.tight_layout()\n",
    "#     plt.show()\n",
    "\n",
    "\n",
    "# plot_data_grid(train_dataloader)"
   ]
  },
  {
   "cell_type": "markdown",
   "metadata": {},
   "source": [
    "### 2.2 Defining a Model using `nn.Module`"
   ]
  },
  {
   "cell_type": "markdown",
   "metadata": {},
   "source": [
    "When subclassing `nn.Module`, we must specify one method, `forward()`, which defines the forward pass of the network. The `__init__()` method is used to define the layers of the network if that is needed. `forward()` is called when we pass data through the model as `model(data)`."
   ]
  },
  {
   "cell_type": "code",
   "execution_count": 18,
   "metadata": {},
   "outputs": [
    {
     "name": "stdout",
     "output_type": "stream",
     "text": [
      "Using device: cpu\n",
      "CNN(\n",
      "  (conv1): Conv2d(1, 32, kernel_size=(5, 5), stride=(1, 1))\n",
      "  (act1): ReLU()\n",
      "  (pool): MaxPool2d(kernel_size=2, stride=2, padding=0, dilation=1, ceil_mode=False)\n",
      "  (conv2): Conv2d(32, 64, kernel_size=(5, 5), stride=(1, 1))\n",
      "  (act2): ReLU()\n",
      "  (fc1): Linear(in_features=1024, out_features=120, bias=True)\n",
      "  (fc2): Linear(in_features=120, out_features=84, bias=True)\n",
      "  (fc3): Linear(in_features=84, out_features=10, bias=True)\n",
      ")\n"
     ]
    }
   ],
   "source": [
    "import torch\n",
    "import torch.nn as nn\n",
    "\n",
    "\n",
    "class CNN(nn.Module):\n",
    "    def __init__(self, in_channels=3, num_classes=10):\n",
    "        \"\"\"Small CNN model for MNIST.\n",
    "\n",
    "        # Assumes input images are of size (3, 32, 32).\n",
    "        Assumes input images are of size (1, 28, 28).\n",
    "        \"\"\"\n",
    "        super().__init__()\n",
    "        ## Define the layers\n",
    "        self.conv1 = nn.Conv2d(in_channels=in_channels, out_channels=32, kernel_size=5)\n",
    "        self.act1 = nn.ReLU()\n",
    "        self.pool = nn.MaxPool2d(kernel_size=2, stride=2)\n",
    "\n",
    "        self.conv2 = nn.Conv2d(32, 64, kernel_size=5)\n",
    "        self.act2 = nn.ReLU()\n",
    "\n",
    "        # self.fc1 = nn.Linear(64 * 5 * 5, 120)\n",
    "        self.fc1 = nn.Linear(64 * 4 * 4, 120)\n",
    "        self.fc2 = nn.Linear(120, 84)\n",
    "        self.fc3 = nn.Linear(84, num_classes)\n",
    "\n",
    "    def forward(self, x):\n",
    "        ## Define the forward pass\n",
    "        x = self.pool(self.act1(self.conv1(x)))\n",
    "        x = self.pool(self.act2(self.conv2(x)))\n",
    "        x = torch.flatten(x, 1)\n",
    "        x = self.fc1(x)\n",
    "        x = self.fc2(x)\n",
    "        x = self.fc3(x)\n",
    "        return x\n",
    "\n",
    "\n",
    "model = CNN(in_channels=1, num_classes=10)\n",
    "\n",
    "## try with resnet18\n",
    "# import torchvision.models as models\n",
    "# model = models.resnet18(pretrained=True)\n",
    "# model.fc = nn.Linear(model.fc.in_features, 10)\n",
    "\n",
    "\n",
    "## If GPU is available, move model and data to GPU for faster computation, otherwise use CPU\n",
    "\n",
    "print(f\"Using device: {device}\")\n",
    "\n",
    "## Move model to device\n",
    "model = model.to(device)\n",
    "print(model)"
   ]
  },
  {
   "cell_type": "code",
   "execution_count": 19,
   "metadata": {},
   "outputs": [
    {
     "name": "stdout",
     "output_type": "stream",
     "text": [
      "torch.Size([64, 1, 28, 28])\n",
      "torch.Size([64, 10])\n",
      "torch.Size([64])\n"
     ]
    }
   ],
   "source": [
    "## Predict a sample image\n",
    "\n",
    "## Get a sample image from the data loader (first batch)\n",
    "image, label = next(iter(train_dataloader))\n",
    "## Move image and label to device\n",
    "image = image.to(device)\n",
    "label = label.to(device)\n",
    "\n",
    "## Apply the model to the image\n",
    "pred = model(image)\n",
    "\n",
    "print(image.shape)\n",
    "print(pred.shape)\n",
    "print(label.shape)"
   ]
  },
  {
   "cell_type": "code",
   "execution_count": 20,
   "metadata": {},
   "outputs": [
    {
     "data": {
      "image/png": "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",
      "text/plain": [
       "<Figure size 1300x200 with 2 Axes>"
      ]
     },
     "metadata": {},
     "output_type": "display_data"
    }
   ],
   "source": [
    "\n",
    "## Show confidence scores for each class for the first sample\n",
    "fig, ax = plt.subplots(1, 2, figsize=(13, 2))\n",
    "ax[0].imshow(image[0].permute(1, 2, 0).cpu().numpy())\n",
    "ax[0].set_title(f\"True label: {classes[label[0].item()]}\")\n",
    "ax[1].bar(classes, pred[0].softmax(0).detach().cpu().numpy())\n",
    "ax[1].set_ylim([0, 1])\n",
    "ax[1].set_title(\"Confidence scores\")\n",
    "plt.tight_layout()\n",
    "plt.show()"
   ]
  },
  {
   "cell_type": "markdown",
   "metadata": {},
   "source": [
    "> Tip: We assume 32×32 RGB images (3 channels), and use two pooling layers, which reduce spatial dimensions to 8×8 before the fully connected layers."
   ]
  },
  {
   "cell_type": "markdown",
   "metadata": {},
   "source": [
    "### 2.3 Loss Function"
   ]
  },
  {
   "cell_type": "markdown",
   "metadata": {},
   "source": [
    "Loss function (also referred to as the objective function, cost function or criterion) does 2 things:\n",
    "1. Quantifies how well the model is performing. \n",
    "2. Provides a signal to the optimizer on how to update the weights."
   ]
  },
  {
   "cell_type": "markdown",
   "metadata": {},
   "source": [
    "Loss functions in PyTorch can be regular Python functions, but usually they are implemented as `nn.Module` subclasses and many of them are already implemented in `torch.nn`. Two loss functions we have seen before are the cross-entropy loss (in combination with softmax) and the mean squared error loss. We will use the cross-entropy loss in this tutorial."
   ]
  },
  {
   "cell_type": "code",
   "execution_count": 21,
   "metadata": {},
   "outputs": [],
   "source": [
    "loss_function = nn.CrossEntropyLoss()"
   ]
  },
  {
   "cell_type": "code",
   "execution_count": 29,
   "metadata": {},
   "outputs": [
    {
     "name": "stdout",
     "output_type": "stream",
     "text": [
      "torch version:  tensor(2.2919, grad_fn=<NllLossBackward0>)\n",
      "manual version:  tensor(2.2919, grad_fn=<DivBackward0>)\n"
     ]
    }
   ],
   "source": [
    "def home_made_cross_entropy(pred, target):\n",
    "    ## Compute the softmax of the predictions\n",
    "    ## softmax\n",
    "    pred = pred.exp()\n",
    "    pred = pred / pred.sum(1, keepdim=True)\n",
    "\n",
    "    ## Compute the negative log likelihood\n",
    "    loss = 0\n",
    "    for i in range(len(pred)):\n",
    "        ## 1 * log(pred) + 0 * log(1 - pred) = log(pred) for the target class\n",
    "        loss -= pred[i, target[i]].log()\n",
    "    return loss / len(pred)\n",
    "\n",
    "\n",
    "print(\"torch version: \", loss_function(pred, label))\n",
    "print(\"manual version: \", home_made_cross_entropy(pred, label))"
   ]
  },
  {
   "cell_type": "markdown",
   "metadata": {},
   "source": [
    "### 2.4 Optimizer"
   ]
  },
  {
   "cell_type": "markdown",
   "metadata": {},
   "source": [
    "In the lectures, you have seen several optimization algorithms: Gradient Descent, Stochastic Gradient Descent, Adaptable Gradient Descent (AdaGrad), Adaptive Moment Estimation (Adam), and more. \n",
    "\n",
    "The way the optimization algorithms are handled in PyTorch is by defining an **Optimizer** that gets \n",
    "1. `model.parameters()`: The parameters to be optimized (which all have gradients attached to them as we have seen with the tensors). If only fine tuning the head of a pre-trained model, you can pass in only the parameters of the head.\n",
    "2. Hyperparameters to the optimizer such as learning rate, momentum, etc.\n",
    "\n",
    "**Adam** and **SGD** with momentum are common default choices and usually work well, but I encourage you to experiment with different optimizers and hyperparameters to see how they affect the training."
   ]
  },
  {
   "cell_type": "code",
   "execution_count": 263,
   "metadata": {},
   "outputs": [],
   "source": [
    "# optimizer = torch.optim.Adam(model.parameters(), lr=0.01)\n",
    "optimizer = torch.optim.SGD(model.parameters(), lr=0.01, momentum=0.9)"
   ]
  },
  {
   "cell_type": "markdown",
   "metadata": {},
   "source": [
    "### 2.5 Metrics for Evaluation"
   ]
  },
  {
   "cell_type": "markdown",
   "metadata": {},
   "source": [
    "To be able to tell if our model is actually doing well, we need a measure of quality of its predictions. Often, there are pairs of loss functions and metrics that do similar things, but they are usually not exactly the same. The main reason for the difference is that the loss function needs to be differentiable with respect to parameters of the model (for the optimization), while the metric does not. Therefore, the requirements for the metric are more relaxed so the __metric can be more aligned with the actual problem we are trying to solve.__\n",
    "\n",
    "Note that in actual usage, choosing a reasonable metric is a really important parts of a deep learning system. The complexity of deep learning models make them able to model very complex relationships between inputs, but that flexibility is a blessing and a curse. The ability to model arbitrarily complex patterns also means we cannot assume the patterns aren't arbitrarily complex, making validation and interpretation hard.\n",
    "\n",
    "Choosing the right quality measure or **metric** is crucial to understanding how well the model is performing for the purpose it is intended for.\n",
    "\n",
    "In this tutorial we will only use one metric: **accuracy** to start with as the validation is not the main lesson here. However, I encourage you investigate different metrics for your own projects. \n",
    "\n",
    "<!-- \n",
    "Different metrics can give different perspectives on the performance of the model. For example, in a binary classification problem, the accuracy can be misleading if the classes are imbalanced. Eg. if one class makes up 90% of the data, a model that always predicts that class will have 90% accuracy, but still be a horrible model. \n",
    "\n",
    "**Metrics we will use here:**\n",
    "- **Accuracy** is the most common metric for classification problems. It is the ratio of correctly predicted observations to the total observations.\n",
    "- **Precision** is the ratio of correctly predicted positive observations to the total predicted positive observations.\n",
    "- **Recall** is the ratio of correctly predicted positive observations to the all observations in actual class.\n",
    "- **Dice Score** is a metric used for segmentation tasks. It is the harmonic mean of precision and recall, but can also be seen as a sort of overlap measure. \n",
    "\n",
    "\n",
    "This will be used for both validation and monitoring during training. -->"
   ]
  },
  {
   "cell_type": "code",
   "execution_count": 264,
   "metadata": {},
   "outputs": [],
   "source": [
    "def accuracy(soft_pred, target):\n",
    "    \"\"\"The number of correct predictions divided by the number of total predictions.\"\"\"\n",
    "    return (soft_pred.argmax(dim=1) == target).float().mean()"
   ]
  },
  {
   "cell_type": "code",
   "execution_count": 265,
   "metadata": {},
   "outputs": [],
   "source": [
    "def confusion_matrix(soft_pred, target):\n",
    "    \"\"\"Compute the confusion matrix.\"\"\"\n",
    "    num_samples = soft_pred.shape[0]\n",
    "    num_classes = soft_pred.shape[1]\n",
    "    confusion_matrix = torch.zeros(num_classes, num_classes)\n",
    "    predicted = soft_pred.argmax(1)\n",
    "    for i in range(num_samples):\n",
    "        confusion_matrix[target[i], predicted[i]] += 1\n",
    "    return confusion_matrix"
   ]
  },
  {
   "cell_type": "markdown",
   "metadata": {},
   "source": [
    "> Important: Even before training, we want to measure how good our model is *randomly initialized*. This gives us a baseline and gives us an idea of how good \"as good as random\" is."
   ]
  },
  {
   "cell_type": "markdown",
   "metadata": {},
   "source": [
    "### 2.6 Evaluation of the Model (baseline)"
   ]
  },
  {
   "cell_type": "markdown",
   "metadata": {},
   "source": [
    "How good does our model do? Let's evaluate it on the validation set before training starts to get a baseline. "
   ]
  },
  {
   "cell_type": "code",
   "execution_count": 266,
   "metadata": {},
   "outputs": [],
   "source": [
    "def evaluate(model, dataloader):\n",
    "    ## Set model to evaluation mode (important for dropout and batch normalization layers)\n",
    "    model.eval()\n",
    "    ## Initialize tracking variables\n",
    "    loss_track = 0\n",
    "    acc_track = 0\n",
    "\n",
    "    ## Initialize confusion matrix\n",
    "    con_mat_track = torch.zeros(10, 10)\n",
    "\n",
    "    with torch.inference_mode():  ## also works with torch.no_grad(), but torch.inference_mode() is more explicit, future-proof and preferred\n",
    "        for inputs, labels in dataloader:\n",
    "            ## Move data to device\n",
    "            inputs = inputs.to(device)\n",
    "            labels = labels.to(device)\n",
    "\n",
    "            ## Forward pass\n",
    "            outputs = model(inputs)\n",
    "\n",
    "            ## Compute loss\n",
    "            loss = loss_function(outputs, labels)\n",
    "\n",
    "            ## Compute metrics\n",
    "            acc = accuracy(outputs, labels)\n",
    "            con_mat = confusion_matrix(outputs, labels)\n",
    "\n",
    "            ## Update statistics\n",
    "            loss_track += loss.item()\n",
    "            acc_track += acc\n",
    "            con_mat_track += con_mat\n",
    "\n",
    "        ## Compute average loss and accuracy\n",
    "        loss_track /= len(dataloader)\n",
    "        acc_track /= len(dataloader)\n",
    "    return loss, acc, con_mat_track"
   ]
  },
  {
   "cell_type": "code",
   "execution_count": 267,
   "metadata": {},
   "outputs": [],
   "source": [
    "def plot_confusion_matrix(cm):\n",
    "    fig, ax = plt.subplots(figsize=(4, 4))\n",
    "    ax.matshow(cm, cmap=\"Blues\")\n",
    "    for i in range(cm.shape[0]):\n",
    "        for j in range(cm.shape[1]):\n",
    "            ax.text(i, j, f\"{cm[j, i]:.0f}\", ha=\"center\", va=\"center\")\n",
    "\n",
    "    plt.xlabel(\"Predicted label\")\n",
    "    plt.ylabel(\"True label\")\n",
    "\n",
    "    plt.xticks(range(10))\n",
    "    plt.yticks(range(10))\n",
    "    plt.tight_layout()\n",
    "    plt.show()"
   ]
  },
  {
   "cell_type": "code",
   "execution_count": 268,
   "metadata": {},
   "outputs": [
    {
     "name": "stdout",
     "output_type": "stream",
     "text": [
      "Before training: Val loss = 2.3333, Val accuracy = 0.0000\n",
      "Confusion matrix:\n"
     ]
    },
    {
     "data": {
      "image/png": "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",
      "text/plain": [
       "<Figure size 400x400 with 1 Axes>"
      ]
     },
     "metadata": {},
     "output_type": "display_data"
    }
   ],
   "source": [
    "## Evaluate the model on the validation set\n",
    "val_loss, val_acc, con_mat = evaluate(model.to(device), val_dataloader)\n",
    "print(f\"Before training: Val loss = {val_loss:.4f}, Val accuracy = {val_acc:.4f}\")\n",
    "print(\"Confusion matrix:\")\n",
    "plot_confusion_matrix(con_mat)"
   ]
  },
  {
   "cell_type": "code",
   "execution_count": 269,
   "metadata": {},
   "outputs": [
    {
     "data": {
      "image/png": "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",
      "text/plain": [
       "<Figure size 400x400 with 1 Axes>"
      ]
     },
     "metadata": {},
     "output_type": "display_data"
    }
   ],
   "source": [
    "## What types of errors is the model making?\n",
    "con_mat_non_diag = con_mat - torch.eye(10) * con_mat.diag()\n",
    "plot_confusion_matrix(con_mat_non_diag)"
   ]
  },
  {
   "cell_type": "markdown",
   "metadata": {},
   "source": [
    "### 2.7 Train model (forward, backward, update parameters)"
   ]
  },
  {
   "cell_type": "code",
   "execution_count": 270,
   "metadata": {},
   "outputs": [],
   "source": [
    "def train_one_step(model, inputs, labels, loss_function, optimizer):\n",
    "    inputs = inputs.to(device)\n",
    "    labels = labels.to(device)\n",
    "\n",
    "    ## Zero the gradients from last gradient update (otherwise they accumulate)\n",
    "    optimizer.zero_grad()\n",
    "\n",
    "    ## Forward pass\n",
    "    outputs = model(inputs)\n",
    "\n",
    "    ## Compute loss\n",
    "    batch_loss = loss_function(outputs, labels)\n",
    "\n",
    "    ## Backward pass\n",
    "    batch_loss.backward()\n",
    "    optimizer.step()\n",
    "\n",
    "    ## Compute metrics\n",
    "    batch_acc = accuracy(outputs, labels)\n",
    "    return batch_loss, batch_acc\n",
    "\n",
    "\n",
    "def train_one_epoch(model, dataloader):\n",
    "    ## Set model in training mode\n",
    "    model.train()\n",
    "\n",
    "    loss = 0\n",
    "    acc = 0\n",
    "\n",
    "    for inputs, labels in dataloader:\n",
    "        batch_loss, batch_acc = train_one_step(\n",
    "            model, inputs, labels, loss_function, optimizer\n",
    "        )\n",
    "        ## Update statistics\n",
    "        loss += batch_loss.item()\n",
    "        acc += batch_acc\n",
    "\n",
    "    ## Compute average loss and accuracy\n",
    "    loss /= len(dataloader)\n",
    "    acc /= len(dataloader)\n",
    "    return loss, acc"
   ]
  },
  {
   "cell_type": "code",
   "execution_count": 271,
   "metadata": {},
   "outputs": [
    {
     "name": "stdout",
     "output_type": "stream",
     "text": [
      "Loss: 2.2973, Accuracy: 0.1250\n"
     ]
    }
   ],
   "source": [
    "x, y = next(iter(train_dataloader))\n",
    "batch_loss, batch_acc = train_one_step(model, x, y, loss_function, optimizer)\n",
    "print(f\"Loss: {batch_loss:.4f}, Accuracy: {batch_acc:.4f}\")"
   ]
  },
  {
   "cell_type": "code",
   "execution_count": 272,
   "metadata": {},
   "outputs": [
    {
     "ename": "ValueError",
     "evalue": "too many values to unpack (expected 2)",
     "output_type": "error",
     "traceback": [
      "\u001b[0;31m---------------------------------------------------------------------------\u001b[0m",
      "\u001b[0;31mValueError\u001b[0m                                Traceback (most recent call last)",
      "Cell \u001b[0;32mIn[272], line 6\u001b[0m\n\u001b[1;32m      4\u001b[0m \u001b[38;5;28;01mfor\u001b[39;00m epoch \u001b[38;5;129;01min\u001b[39;00m \u001b[38;5;28mrange\u001b[39m(\u001b[38;5;241m1\u001b[39m, \u001b[38;5;241m10\u001b[39m):\n\u001b[1;32m      5\u001b[0m     train_loss, train_acc \u001b[38;5;241m=\u001b[39m train_one_epoch(model, train_dataloader)\n\u001b[0;32m----> 6\u001b[0m     val_loss, val_acc \u001b[38;5;241m=\u001b[39m evaluate(model, val_dataloader)\n\u001b[1;32m      8\u001b[0m     \u001b[38;5;28mprint\u001b[39m(report_template\u001b[38;5;241m.\u001b[39mformat(epoch, train_loss, train_acc, val_loss, val_acc))\n",
      "\u001b[0;31mValueError\u001b[0m: too many values to unpack (expected 2)"
     ]
    }
   ],
   "source": [
    "report_template = \"Epoch {}: Train loss = {:.4f}, val acc = {:.4f} | Val loss = {:.4f}, val acc = {:.4f}\"\n",
    "for epoch in range(1, 10):\n",
    "    train_loss, train_acc = train_one_epoch(model, train_dataloader)\n",
    "    val_loss, val_acc = evaluate(model, val_dataloader)\n",
    "\n",
    "    print(report_template.format(epoch, train_loss, train_acc, val_loss, val_acc))"
   ]
  },
  {
   "cell_type": "markdown",
   "metadata": {},
   "source": [
    "### 2.8 Evaluate model performance on test set\n",
    "This is the final evaluation of the model. We have already evaluated the model on the validation set, but the test set is the final evaluation of the model. The reason we should not evaluate too much on the test set is simply to make sure we do not overfit to the test set. We want the test set to represent what you could expect the model to perform on unseen data. If you evaluate 1000 different models on the test set and pick the best one, we have essentially optimized (inefficently) on the test set and cannot expect the same performance on unseen data anymore. "
   ]
  },
  {
   "cell_type": "code",
   "execution_count": 240,
   "metadata": {},
   "outputs": [
    {
     "name": "stdout",
     "output_type": "stream",
     "text": [
      "Test loss = 0.0000, Test accuracy = 1.0000\n"
     ]
    },
    {
     "data": {
      "image/png": "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",
      "text/plain": [
       "<Figure size 400x400 with 1 Axes>"
      ]
     },
     "metadata": {},
     "output_type": "display_data"
    },
    {
     "data": {
      "image/png": "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",
      "text/plain": [
       "<Figure size 400x400 with 1 Axes>"
      ]
     },
     "metadata": {},
     "output_type": "display_data"
    }
   ],
   "source": [
    "## Evaluate the model on the test set\n",
    "test_loss, test_acc, con_mat = evaluate(model, test_dataloader)\n",
    "print(f\"Test loss = {test_loss:.4f}, Test accuracy = {test_acc:.4f}\")\n",
    "plot_confusion_matrix(con_mat)\n",
    "plot_confusion_matrix(con_mat - torch.eye(10) * con_mat.diag())"
   ]
  },
  {
   "cell_type": "code",
   "execution_count": 241,
   "metadata": {},
   "outputs": [
    {
     "data": {
      "image/png": "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",
      "text/plain": [
       "<Figure size 1500x500 with 20 Axes>"
      ]
     },
     "metadata": {},
     "output_type": "display_data"
    }
   ],
   "source": [
    "plot_examples(test_dataset, model=model.to(\"cpu\"))"
   ]
  },
  {
   "cell_type": "markdown",
   "metadata": {},
   "source": [
    "### 2.9 Save and load model"
   ]
  },
  {
   "cell_type": "code",
   "execution_count": 1,
   "metadata": {},
   "outputs": [
    {
     "ename": "NameError",
     "evalue": "name 'torch' is not defined",
     "output_type": "error",
     "traceback": [
      "\u001b[0;31m---------------------------------------------------------------------------\u001b[0m",
      "\u001b[0;31mNameError\u001b[0m                                 Traceback (most recent call last)",
      "Cell \u001b[0;32mIn[1], line 2\u001b[0m\n\u001b[1;32m      1\u001b[0m \u001b[38;5;66;03m## save model\u001b[39;00m\n\u001b[0;32m----> 2\u001b[0m \u001b[43mtorch\u001b[49m\u001b[38;5;241m.\u001b[39msave(model\u001b[38;5;241m.\u001b[39mstate_dict(), \u001b[38;5;124m\"\u001b[39m\u001b[38;5;124mmodel.pth\u001b[39m\u001b[38;5;124m\"\u001b[39m)\n\u001b[1;32m      4\u001b[0m dummy_input \u001b[38;5;241m=\u001b[39m torch\u001b[38;5;241m.\u001b[39mrandn(\u001b[38;5;241m1\u001b[39m, \u001b[38;5;241m1\u001b[39m, \u001b[38;5;241m28\u001b[39m, \u001b[38;5;241m28\u001b[39m)\n\u001b[1;32m      6\u001b[0m \u001b[38;5;66;03m## load model\u001b[39;00m\n",
      "\u001b[0;31mNameError\u001b[0m: name 'torch' is not defined"
     ]
    }
   ],
   "source": [
    "## save model\n",
    "torch.save(model.state_dict(), \"model.pth\")\n",
    "\n",
    "dummy_input = torch.randn(1, 1, 28, 28)\n",
    "\n",
    "## load model\n",
    "model = CNN(in_channels=1, num_classes=10)\n",
    "model.load_state_dict(torch.load(\"model.pth\", weights_only=True))\n",
    "\n",
    "\n",
    "## Inference with PyTorch model\n",
    "model.eval()\n",
    "torch_outs = model(dummy_input)\n",
    "\n",
    "## plot image with prediction confidence scores\n",
    "fig, ax = plt.subplots(1, 2, figsize=(13, 2))\n",
    "ax[0].imshow(dummy_input[0, 0].detach().numpy(), cmap=\"gray\")\n",
    "ax[0].set_title(\"Input image\")\n",
    "ax[1].bar(classes, torch_outs[0].softmax(0).detach().numpy())\n",
    "ax[1].set_ylim([0, 1])\n",
    "ax[1].set_title(\"Confidence scores\")\n",
    "plt.tight_layout()\n",
    "plt.show()"
   ]
  },
  {
   "cell_type": "markdown",
   "metadata": {},
   "source": [
    "### 2.10 Diagnosing and Fixing Problems"
   ]
  },
  {
   "cell_type": "markdown",
   "metadata": {},
   "source": [
    "During training, it's common to encounter issues that show up in your training and validation loss or accuracy curves. \n",
    "- If the **training loss decreases but validation loss increases**, you're likely **overfitting** — try reducing model capacity (size), adding **dropout**, using **weight decay (L2 regularization)**, or applying **data augmentation**. \n",
    "- If **both training and validation loss stay high**, your model may be **underfitting** — try a **larger model**, **train longer**, or reduce the **learning rate**. \n",
    "- If the loss **fluctuates heavily** or fails to improve, your **learning rate may be too high** - try lowering it. \n",
    "- If training is **very slow** or the loss decreases only marginally, the **learning rate may be too low**. \n",
    "- Also consider whether your **model is too small for the task**, or your **batch size is too small**, which can make **optimization noisy**. \n",
    "\n",
    "**Always monitor both loss and metrics on training and validation sets — they’re your most reliable tools for diagnosing training behavior!**\n"
   ]
  },
  {
   "cell_type": "markdown",
   "metadata": {},
   "source": [
    "### Part 2.11: Custom Dataset"
   ]
  },
  {
   "cell_type": "markdown",
   "metadata": {},
   "source": [
    "Making custom datasets is relatively easy in PyTorch. You need to subclass `torch.utils.data.Dataset` and implement `__len__` and `__getitem__`.\n",
    "\n",
    "- `__len__` returns the size of the dataset and is the method that is called when running `len(dataset)`.\n",
    "- `__getitem__` is used to retrieve a sample from the dataset at a given index such as `dataset[0]`.\n",
    "\n",
    "See the example below:"
   ]
  },
  {
   "cell_type": "code",
   "execution_count": null,
   "metadata": {},
   "outputs": [],
   "source": [
    "## Example\n",
    "from torch.utils.data import Dataset\n",
    "\n",
    "\n",
    "class CustomDataset(Dataset):\n",
    "    def __init__(self, data_arg=None):\n",
    "        super().__init__()\n",
    "        self.n_data_points = 100\n",
    "        self.data_arg = data_arg\n",
    "\n",
    "    def __len__(self):\n",
    "        return self.n_data_points\n",
    "\n",
    "    def __getitem__(self, idx):\n",
    "        dummy_input_data = torch.randn(1, 28, 28)\n",
    "        dummy_label = torch.randint(0, 10, (1,))\n",
    "        return dummy_input_data, dummy_label\n",
    "\n",
    "\n",
    "dataset = CustomDataset()\n",
    "dataloader = torch.utils.data.DataLoader(dataset, batch_size=2, shuffle=True)\n",
    "\n",
    "for inputs, labels in dataloader:\n",
    "    print(inputs.shape, labels.shape)\n",
    "    break"
   ]
  },
  {
   "cell_type": "markdown",
   "metadata": {},
   "source": []
  },
  {
   "cell_type": "markdown",
   "metadata": {},
   "source": [
    "## Part 3: Modify and Experiment with the Pipeline"
   ]
  },
  {
   "cell_type": "markdown",
   "metadata": {},
   "source": [
    "Now we have some tasks for you to use what we have covered. In the lab session, you will be given the same code illustrated above (for data loading, model definition, and training loop). Your tasks is to make intentional modifications and observing the effects. Here are the specific exercises: \n",
    "\n",
    "1. **Swap the Dataset:** Using the provided code, train the CNN on a different image dataset. You can use a built-in dataset like CIFAR-10, MNIST, or FashionMNIST. This exercise will help you understand how to swap datasets in PyTorch and observe how the model performs on different data distributions.\n",
    "\n",
    "2. **Modify the Model Architecture:** Increase the complexity of the model and observe the impact. For instance, add an additional convolutional layer (making it three conv layers in total), or increase the number of neurons in the fully connected layers, or insert a `nn.Dropout` layer after `conv2` or between the FC layers. Train the modified model for a few epochs. Does it achieve lower training loss or higher accuracy? Also watch if it overfits more quickly due to increased capacity. This exercise reinforces how to iterate on model design in PyTorch. \n",
    "\n",
    "3. **Tweak Training Hyperparameters:** Experiment with the training loop settings. Try a higher learning rate (e.g. 0.01 instead of 0.001) and see if the model converges faster or if it becomes unstable. Alternatively, change the batch size (e.g. 64 or 128 instead of 32) – note how that affects the training speed per epoch and the stability of updates. You can also enable weight decay in the optimizer (e.g. `optim.SGD(..., weight_decay=1e-4)`) as a form of L2 regularization to combat overfitting. The purpose here is to develop intuition on how hyperparameters like learning rate and batch size influence training dynamics. \n",
    "\n",
    "4. **Convert to an Autoencoder (Advanced Challenge):** An autoencoder is a network trained to reconstruct its input as we have seen in the lectures. Try modifying the CNN architecture into an autoencoder. For example, use the current CNN as an **encoder** (downsampling image to a feature vector), then add a **decoder** that mirrors it (up-sampling back to the original image size using transpose convolutions or interpolation). Train the autoencoder on a dataset of images where the “labels” are the inputs themselves.\n",
    "\n",
    "5. **Implement Basic Logging:** As you experiment with the above tasks, practice logging the outcomes. For each experiment (dataset swap, architecture change, etc.), record the training and validation loss/accuracy. You can simply print them or use TensorBoard / Wandb for a cleaner visualization. For example, if you try three different learning rates, you can plot three training curves to compare which one converges fastest or leads to the best validation performance. This logging habit will help you debug issues (like spotting divergence early) and is very important in real-world deep learning projects where you might try lots of experiments. \n"
   ]
  },
  {
   "cell_type": "markdown",
   "metadata": {},
   "source": [
    "## Summary\n",
    "In this tutorial, we have discussed the basics of working with PyTorch tensors, including moving computations to the GPU, getting gradients with `autograd`, and converting between NumPy arrays and PyTorch tensors. \n",
    "\n",
    "We then built and trained a simple CNN from scratch, covering the key components of a deep learning pipeline: \n",
    "- datasets\n",
    "- model architecture\n",
    "- loss functions\n",
    "- optimizers\n",
    "- evaluation metrics. \n",
    "\n",
    "We also discussed how to diagnose and fix common training issues, and how to experiment with different hyperparameters and model architectures. Finally, we outlined a series of tasks for you to practice modifying and extending the workflow on your own."
   ]
  }
 ],
 "metadata": {
  "kernelspec": {
   "display_name": ".venv",
   "language": "python",
   "name": "python3"
  },
  "language_info": {
   "codemirror_mode": {
    "name": "ipython",
    "version": 3
   },
   "file_extension": ".py",
   "mimetype": "text/x-python",
   "name": "python",
   "nbconvert_exporter": "python",
   "pygments_lexer": "ipython3",
   "version": "3.13.1"
  }
 },
 "nbformat": 4,
 "nbformat_minor": 2
}
                                                                                                                                                                                                                                                                                                                                                                                                                                                                                                                                                                                                                                                                                                                                                                                                                                                                                                                                                                                                                                                                                                                                                            