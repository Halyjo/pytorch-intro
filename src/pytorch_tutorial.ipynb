{
 "cells": [
  {
   "cell_type": "markdown",
   "metadata": {
    "vscode": {
     "languageId": "plaintext"
    }
   },
   "source": [
    "# PyTorch Tutorial: Building and Training a CNN from Scratch\n",
    "\n",
    "## Learning Outcomes \n",
    "By the end of this tutorial, you will be able to: \n",
    "\n",
    "1. **Work with PyTorch Tensors:** Create and manipulate tensors in PyTorch and understand how to move computations to the GPU for acceleration. \n",
    "\n",
    "2. **Get the gradient of a function with respect to its input:** Use PyTorch's `autograd` to compute gradients of a function with respect to its inputs.\n",
    "\n",
    "3. **Build a Convolutional Neural Network (CNN):** Define a simple CNN architecture in pytorch using `torch.nn.Module`, including convolutional layers, activation functions, and fully connected layers.\n",
    "\n",
    "4. **Evaluate a Model:** Implement a forward pass to compute predictions from a trained model and evaluate its performance using metrics like accuracy and a confusion matrix.\n",
    "\n",
    "4. **Train a Model:** Implement a training loop that performs forward passes, computes loss, performs backpropagation, and updates parameters with an optimizer. You’ll also learn to monitor training progress and performance during training (e.g. tracking loss over epochs).\n",
    "\n",
    "5. **Evaluate After Training and Debug Models:** Identify signs of overfitting vs. underfitting during training and apply remedies (like adjusting learning rate, changing batch size, or adding regularization). You’ll also practice saving model checkpoints and using basic logging to track experiments for debugging and improving training runs.\n",
    "\n",
    "**Tutorial Structure:** The idea is that you should follow along with your own laptop and run the code as we go. I will explain each step and give you time to try it out. I will also provide some exercises for you to practice on your own.\n",
    "\n",
    "---"
   ]
  },
  {
   "cell_type": "markdown",
   "metadata": {
    "vscode": {
     "languageId": "markdown"
    }
   },
   "source": [
    "## Part 1: Introduction to PyTorch Tensors\n"
   ]
  },
  {
   "cell_type": "markdown",
   "metadata": {},
   "source": [
    "\n",
    "### 1.1 Working with PyTorch Tensors (and GPUs)"
   ]
  },
  {
   "cell_type": "markdown",
   "metadata": {},
   "source": [
    "\n",
    "#### 1.1.1 Similarities between `numpy.ndarray` and `torch.Tensor`\n",
    "PyTorch’s core data structure is the **Tensor**, an n-dimensional array much like NumPy’s `ndarray`, with additional features such as GPU support and automatic differentiation.  \n",
    "📚 [PyTorch Documentation on Tensors](https://pytorch.org/tutorials/beginner/pytorch_with_examples.html#tensors)\n"
   ]
  },
  {
   "cell_type": "code",
   "execution_count": 0,
   "metadata": {},
   "outputs": [
    {
     "name": "stdout",
     "output_type": "stream",
     "text": [
      "Numpy\n",
      "------\n",
      "[[1 2]\n",
      " [3 4]]\n",
      "int64 (2, 2)\n",
      "[1 2]\n",
      "1\n",
      "[1 3]\n",
      "[[ True False]\n",
      " [False False]]\n",
      "[[ 1.57393107 -0.02987315]\n",
      " [-1.7381737   0.66322832]]\n",
      "\n",
      "PyTorch\n",
      "------\n",
      "tensor([[1, 2],\n",
      "        [3, 4]])\n",
      "torch.int64 torch.Size([2, 2])\n",
      "tensor([1, 2])\n",
      "tensor(1)\n",
      "tensor([1, 3])\n",
      "tensor([[ True, False],\n",
      "        [False, False]])\n",
      "tensor([[-0.0945, -0.1519],\n",
      "        [-0.5760,  1.8791]])\n"
     ]
    }
   ],
   "source": [
    "## Similarities between numpy and pytorch\n",
    "import numpy as np\n",
    "import torch\n",
    "\n",
    "\n",
    "## numpy\n",
    "print(\"Numpy\\n------\")\n",
    "x = np.array([[1, 2], [3, 4]])\n",
    "print(x)\n",
    "print(x.dtype, x.shape)\n",
    "x.sum(0)\n",
    "print(x[0])\n",
    "print(x[0, 0])\n",
    "print(x[:, 0])\n",
    "print(x == 1)\n",
    "\n",
    "grid = np.random.randn(2, 2)\n",
    "print(grid)\n",
    "\n",
    "print()\n",
    "\n",
    "\n",
    "## pytorch\n",
    "print(\"PyTorch\\n------\")\n",
    "x = torch.tensor([[1, 2], [3, 4]])\n",
    "print(x)\n",
    "print(x.dtype, x.shape)\n",
    "x.sum(0)\n",
    "print(x[0])\n",
    "print(x[0, 0])\n",
    "print(x[:, 0])\n",
    "print(x == 1)\n",
    "\n",
    "grid = torch.randn(2, 2)\n",
    "print(grid)"
   ]
  },
  {
   "cell_type": "markdown",
   "metadata": {},
   "source": [
    "Similarities (think of PyTorch as a GPU-accelerated NumPy):\n",
    "- Indexing and slicing syntax are identical\n",
    "- Data types and shapes behave similarly\n",
    "- Operations like `.sum()`, element-wise comparison, etc. feel the same"
   ]
  },
  {
   "cell_type": "markdown",
   "metadata": {
    "vscode": {
     "languageId": "latex"
    }
   },
   "source": [
    "#### 1.1.2 Important differences between `numpy.ndarray` and `torch.Tensor`\n",
    "| Feature | numpy.ndarray | torch.Tensor |\n",
    "--- | --- | ---| \n",
    "| GPU support | ❌ CPU only | ✅ GPU or CPU |\n",
    "| Automatic differentiation | ❌ Not supported | ✅ `.requires_grad` and `.backward()` |\n",
    "| In-place operation safety | Not enforced | ⚠️ Can interfere with autograd |\n",
    "| Integration with deep learning frameworks | ❌ | ✅ (nn, optim, etc.) |\n"
   ]
  },
  {
   "cell_type": "code",
   "execution_count": 0,
   "metadata": {},
   "outputs": [
    {
     "name": "stdout",
     "output_type": "stream",
     "text": [
      "cpu\n",
      "cpu\n",
      "RuntimeError: a leaf Variable that requires grad is being used in an in-place operation.\n"
     ]
    }
   ],
   "source": [
    "## If you have a mac with an M-chip, try with \"mps\" instead of \"cuda\" on the line below\n",
    "device = torch.device(\"cuda\" if torch.cuda.is_available() else \"cpu\")\n",
    "\n",
    "print(device)\n",
    "x = x.to(device)\n",
    "print(x.device)\n",
    "\n",
    "# In-place operation caveat\n",
    "a = torch.tensor([1.0, 2.0], requires_grad=True)\n",
    "try:\n",
    "    a += 1  ## in-place operations with grad are not allowed\n",
    "except RuntimeError as e:\n",
    "    print(f\"RuntimeError: {e}\")"
   ]
  },
  {
   "cell_type": "markdown",
   "metadata": {},
   "source": [
    "#### 1.1.3 Conversion between `numpy.ndarray` and `torch.Tensor`"
   ]
  },
  {
   "cell_type": "code",
   "execution_count": 0,
   "metadata": {},
   "outputs": [
    {
     "name": "stdout",
     "output_type": "stream",
     "text": [
      "<class 'torch.Tensor'> tensor([[1, 2],\n",
      "        [3, 4]])\n",
      "<class 'numpy.ndarray'> [[1 2]\n",
      " [3 4]]\n"
     ]
    }
   ],
   "source": [
    "# NumPy to PyTorch (straightforward)\n",
    "x_np = np.array([[1, 2], [3, 4]])\n",
    "x_torch = torch.from_numpy(x_np)\n",
    "print(type(x_torch), x_torch)\n",
    "\n",
    "# PyTorch to NumPy (not so straightforward)\n",
    "x_back = x_torch.numpy()\n",
    "## If requires_grad=True, then we must explicitly throw away the gradient information using detach()\n",
    "x_back = x_torch.detach().numpy()\n",
    "## if on the gpu as well we need to move it to the cpu first\n",
    "x_back = x_torch.detach().cpu().numpy()\n",
    "print(type(x_back), x_back)"
   ]
  },
  {
   "cell_type": "markdown",
   "metadata": {},
   "source": [
    "**Memory sharing alert!:**\n",
    "- `from_numpy()` creates a tensor that shares memory with the original array.\n",
    "- Changes to the NumPy array will affect the tensor (and vice versa)."
   ]
  },
  {
   "cell_type": "code",
   "execution_count": 0,
   "metadata": {},
   "outputs": [
    {
     "name": "stdout",
     "output_type": "stream",
     "text": [
      "Torch tensor after modifying original NumPy array: tensor([[999,   2],\n",
      "        [  3,   4]])\n"
     ]
    }
   ],
   "source": [
    "x_np[0, 0] = 999\n",
    "print(\"Torch tensor after modifying original NumPy array:\", x_torch)"
   ]
  },
  {
   "cell_type": "markdown",
   "metadata": {},
   "source": [
    "#### 1.1.4 Gradients and Automatic Differentiation (the simple way)\n",
    "PyTorch’s `autograd` package provides automatic differentiation for all operations on Tensors. It does this by keeping track of operations performed on Tensors and calculating the gradients with respect to the input. \n",
    "\n",
    "In the first mandatory assignment, we built a network that kept track of activations and gradients for each layer separately. In pytorch, gradients are kept track of automatically and stored in the `.grad` attribute of each tensor.\n",
    "\n",
    "**Example:**"
   ]
  },
  {
   "cell_type": "code",
   "execution_count": 0,
   "metadata": {},
   "outputs": [
    {
     "name": "stdout",
     "output_type": "stream",
     "text": [
      "x=tensor(2., requires_grad=True)\n",
      "out=tensor(8., grad_fn=<PowBackward0>)\n",
      "x.grad=tensor(12.)\n"
     ]
    }
   ],
   "source": [
    "x = torch.tensor(2.0, requires_grad=True)\n",
    "\n",
    "\n",
    "def f(x):\n",
    "    return x**3\n",
    "\n",
    "\n",
    "out = f(x)\n",
    "\n",
    "## Compute the gradient of the output with respect to the input(s)\n",
    "## Note that this needs to be a scalar or be given a vector of the same shape as the output\n",
    "out.backward()\n",
    "\n",
    "print(f\"{x=}\")\n",
    "print(f\"{out=}\")\n",
    "print(f\"{x.grad=}\")"
   ]
  },
  {
   "cell_type": "markdown",
   "metadata": {},
   "source": [
    "**Notice:**\n",
    "\n",
    "`out`  is a scalar here. \n",
    "If not, we would need to provide a vector of the same shape as `out` to `backward()`, similar to the $\\delta$-values in the mandatory assignment."
   ]
  },
  {
   "cell_type": "markdown",
   "metadata": {},
   "source": [
    "--- "
   ]
  },
  {
   "cell_type": "markdown",
   "metadata": {},
   "source": [
    "### 1.2 Exercises for Working with PyTorch Tensors (and GPUs)"
   ]
  },
  {
   "cell_type": "markdown",
   "metadata": {},
   "source": [
    "#### Ex. 1 Memory sharing: Who's in change?"
   ]
  },
  {
   "cell_type": "code",
   "execution_count": 0,
   "metadata": {},
   "outputs": [
    {
     "name": "stdout",
     "output_type": "stream",
     "text": [
      "Modified NumPy array:\n",
      " [[999   1   2]\n",
      " [  3   4   5]\n",
      " [  6   7   8]]\n",
      "Modified Tensor:\n",
      " tensor([[999,   1,   2],\n",
      "        [  3,   4,   5],\n",
      "        [  6,   7,   8]])\n"
     ]
    }
   ],
   "source": [
    "import numpy as np\n",
    "import torch\n",
    "\n",
    "# Step 1: Create a NumPy array and convert it to a torch tensor\n",
    "arr = np.arange(9).reshape(3, 3)\n",
    "tensor = torch.from_numpy(arr)\n",
    "\n",
    "# Step 2: Modify the torch tensor\n",
    "tensor[0, 0] = 999\n",
    "\n",
    "# Step 3: Print both\n",
    "print(\"Modified NumPy array:\\n\", arr)\n",
    "print(\"Modified Tensor:\\n\", tensor)"
   ]
  },
  {
   "cell_type": "markdown",
   "metadata": {},
   "source": [
    "**Questions**\n",
    "1. Is the relationship symmetric?\n",
    "2. How can you break this connection and make a safe copy? (Experiment with `.clone()`, `.detach()`, and `.copy()`)"
   ]
  },
  {
   "cell_type": "markdown",
   "metadata": {},
   "source": [
    "---\n",
    "\n",
    "**Okay! Now we have covered the basics of working with PyTorch tensors. Let's move on to the next section where we will build and train a simple Deep Learning model.**"
   ]
  },
  {
   "cell_type": "markdown",
   "metadata": {},
   "source": [
    "## Part 2: Building and Training a Neural Network"
   ]
  },
  {
   "cell_type": "markdown",
   "metadata": {},
   "source": [
    "### Overview"
   ]
  },
  {
   "cell_type": "markdown",
   "metadata": {},
   "source": [
    "We’ll now walk through the full process of defining, training, and evaluating a CNN using PyTorch. We'll work step by step:\n",
    "1. Datasets and Dataloaders\n",
    "2. Model\n",
    "3. Loss \n",
    "4. Optimizer\n",
    "5. Metric (**quality measure**) to evaluate the model\n",
    "6. Evaluation of the model\n",
    "7. Train model (forward, backward, update parameters)\n",
    "8. Evaluate model performance on test set\n",
    "9. Save and load model\n",
    "10. Make predictions on new data\n",
    "<!-- 11. Custom dataset and dataloaders -->\n"
   ]
  },
  {
   "cell_type": "markdown",
   "metadata": {},
   "source": [
    "### 2.1 Dataset and Dataloaders"
   ]
  },
  {
   "cell_type": "markdown",
   "metadata": {},
   "source": [
    "At this point. I will just give you a dataset to start working with to get the process going. However, we will revisit datasets and dataloaders after we have trained the network. **Do not worry if the next cell is confusing, we will go through the important parts later**."
   ]
  },
  {
   "cell_type": "code",
   "execution_count": 0,
   "metadata": {},
   "outputs": [
    {
     "name": "stdout",
     "output_type": "stream",
     "text": [
      "Number of training examples: 50000\n",
      "Number of validation examples: 10000\n",
      "Number of testing examples: 10000\n",
      "Number of training batches: 782\n",
      "Number of validation batches: 157\n",
      "Number of testing batches: 157\n"
     ]
    }
   ],
   "source": [
    "## MNIST Data\n",
    "import torch\n",
    "import torchvision\n",
    "import torchvision.transforms as transforms\n",
    "import matplotlib.pyplot as plt\n",
    "import random\n",
    "\n",
    "classes = list(range(10))\n",
    "## Download and split the dataset into training, validation, and test sets\n",
    "train_val_data = torchvision.datasets.MNIST(\n",
    "    root=\"../data\", train=True, download=True, transform=transforms.ToTensor()\n",
    ")\n",
    "train_dataset, val_dataset = torch.utils.data.random_split(\n",
    "    train_val_data, [50000, 10000]\n",
    ")\n",
    "\n",
    "test_dataset = torchvision.datasets.MNIST(\n",
    "    root=\"../data\", train=False, download=True, transform=transforms.ToTensor()\n",
    ")\n",
    "\n",
    "print(f\"Number of training examples: {len(train_dataset)}\")\n",
    "print(f\"Number of validation examples: {len(val_dataset)}\")\n",
    "print(f\"Number of testing examples: {len(test_dataset)}\")\n",
    "## Create data loaders\n",
    "batch_size = 64\n",
    "train_dataloader = torch.utils.data.DataLoader(\n",
    "    dataset=train_dataset, batch_size=batch_size, shuffle=True\n",
    ")\n",
    "val_dataloader = torch.utils.data.DataLoader(\n",
    "    dataset=val_dataset, batch_size=batch_size, shuffle=False\n",
    ")\n",
    "test_dataloader = torch.utils.data.DataLoader(\n",
    "    dataset=test_dataset, batch_size=batch_size, shuffle=False\n",
    ")\n",
    "\n",
    "print(f\"Number of training batches: {len(train_dataloader)}\")\n",
    "print(f\"Number of validation batches: {len(val_dataloader)}\")\n",
    "print(f\"Number of testing batches: {len(test_dataloader)}\")"
   ]
  },
  {
   "cell_type": "code",
   "execution_count": 0,
   "metadata": {},
   "outputs": [
    {
     "data": {
      "image/png": "[encoded data removed]",
      "text/plain": [
       "<Figure size 1500x500 with 20 Axes>"
      ]
     },
     "metadata": {},
     "output_type": "display_data"
    }
   ],
   "source": [
    "def plot_examples(mnist_dataset, model=None):\n",
    "    fig, axes = plt.subplots(2, 10, figsize=(15, 5))\n",
    "\n",
    "    for i, ax in enumerate(axes.flat):\n",
    "        ## Get a random image from the dataset\n",
    "        idx = random.randint(0, len(mnist_dataset))\n",
    "        img, label = mnist_dataset[idx]\n",
    "        ax.imshow(img[0], cmap=\"gray\")\n",
    "\n",
    "        ## add prediction if model is provided\n",
    "        if model is not None:\n",
    "            ## Apply the model to the image\n",
    "            pred = model(img.unsqueeze(0)).detach().numpy()\n",
    "            pred_label = pred.argmax()\n",
    "            ax.set_title(f\"Label: {label}\\nPred: {pred_label}\")\n",
    "        else:\n",
    "            ax.set_title(f\"Label: {label}\")\n",
    "\n",
    "        ax.axis(\"off\")\n",
    "    plt.tight_layout()\n",
    "    plt.show()\n",
    "\n",
    "\n",
    "plot_examples(test_dataset)"
   ]
  },
  {
   "cell_type": "code",
   "execution_count": 0,
   "metadata": {},
   "outputs": [],
   "source": [
    "# ## CIFAR-10 Data (similar to MNIST, but with color images), image size is 3x32x32\n",
    "# import torch\n",
    "# import torchvision\n",
    "# import torchvision.transforms as transforms\n",
    "# import matplotlib.pyplot as plt\n",
    "# import numpy as np\n",
    "\n",
    "# ## Constants\n",
    "# batch_size = 4\n",
    "\n",
    "\n",
    "# ## Define the transformation to apply to the images\n",
    "# transform = transforms.Compose(\n",
    "#     [\n",
    "#         transforms.ToTensor(), ## Converts the image to a PyTorch tensor and scales the pixel intensity values in the range [0, 1]\n",
    "#         transforms.Normalize((0.5, 0.5, 0.5), (0.5, 0.5, 0.5)),\n",
    "#     ]\n",
    "# )\n",
    "\n",
    "# ## Download (if necessary) and load the CIFAR-10 dataset\n",
    "# train_val_data = torchvision.datasets.CIFAR10(\n",
    "#     root=\"../data\", train=True, download=True, transform=transform\n",
    "# )\n",
    "\n",
    "# ## Split the dataset into training and validation sets (one the model can see, the other it can't)\n",
    "# train_dataset, val_dataset = torch.utils.data.random_split(train_val_data, [40000, 10000])\n",
    "\n",
    "\n",
    "# train_dataloader = torch.utils.data.DataLoader(\n",
    "#     train_dataset, batch_size=batch_size, shuffle=True, num_workers=2\n",
    "# )\n",
    "\n",
    "# val_dataloader = torch.utils.data.DataLoader(\n",
    "#     val_dataset, batch_size=batch_size, shuffle=False, num_workers=2\n",
    "# )\n",
    "\n",
    "# ## Load the test set\n",
    "# test_dataset = torchvision.datasets.CIFAR10(\n",
    "#     root=\"../data\", train=False, download=True, transform=transform\n",
    "# )\n",
    "# test_dataloader = torch.utils.data.DataLoader(\n",
    "#     test_dataset, batch_size=batch_size, shuffle=False, num_workers=2\n",
    "# )\n",
    "\n",
    "# classes = (\n",
    "#     \"plane\",\n",
    "#     \"car\",\n",
    "#     \"bird\",\n",
    "#     \"cat\",\n",
    "#     \"deer\",\n",
    "#     \"dog\",\n",
    "#     \"frog\",\n",
    "#     \"horse\",\n",
    "#     \"ship\",\n",
    "#     \"truck\",\n",
    "# )\n",
    "\n",
    "\n",
    "# def show_cifar_batch(batch):\n",
    "#     images, labels = batch\n",
    "#     batch_size = len(images)\n",
    "#     grid = torchvision.utils.make_grid(images, nrow=batch_size)\n",
    "#     grid = grid.numpy().transpose((1, 2, 0))\n",
    "#     grid = grid / 2 + 0.5\n",
    "#     plt.imshow(grid)\n",
    "#     plt.axis(\"off\")\n",
    "#     plt.show()\n",
    "#     print(\" \".join(f\"{classes[labels[j]]:15s}\" for j in range(batch_size)))\n",
    "\n",
    "\n",
    "# # get some random training images\n",
    "# dataiter = iter(train_dataloader)\n",
    "# images, labels = next(dataiter)\n",
    "\n",
    "# # show images\n",
    "# show_cifar_batch((images, labels))"
   ]
  },
  {
   "cell_type": "code",
   "execution_count": 0,
   "metadata": {},
   "outputs": [
    {
     "name": "stdout",
     "output_type": "stream",
     "text": [
      "torch.Size([64, 1, 28, 28])\n",
      "torch.Size([64])\n"
     ]
    }
   ],
   "source": [
    "## Understand the data format\n",
    "images, labels = next(iter(train_dataloader))\n",
    "print(images.shape)\n",
    "print(labels.shape)"
   ]
  },
  {
   "cell_type": "markdown",
   "metadata": {},
   "source": [
    "### 2.2 Defining a Model using `nn.Module`"
   ]
  },
  {
   "cell_type": "markdown",
   "metadata": {},
   "source": [
    "When subclassing `nn.Module`, we must specify one method, `forward()`, which defines the forward pass of the network. The `__init__()` method is used to define the layers of the network if that is needed. `forward()` is called when we pass data through the model as `model(data)`."
   ]
  },
  {
   "cell_type": "code",
   "execution_count": 1436,
   "metadata": {},
   "outputs": [
    {
     "name": "stdout",
     "output_type": "stream",
     "text": [
      "Using device: cpu\n",
      "CNN(\n",
      "  (conv1): Conv2d(1, 32, kernel_size=(5, 5), stride=(1, 1))\n",
      "  (pool): MaxPool2d(kernel_size=2, stride=2, padding=0, dilation=1, ceil_mode=False)\n",
      "  (conv2): Conv2d(32, 64, kernel_size=(5, 5), stride=(1, 1))\n",
      "  (fc1): Linear(in_features=1024, out_features=120, bias=True)\n",
      "  (fc2): Linear(in_features=120, out_features=84, bias=True)\n",
      "  (fc3): Linear(in_features=84, out_features=10, bias=True)\n",
      ")\n"
     ]
    }
   ],
   "source": [
    "import torch\n",
    "import torch.nn as nn\n",
    "\n",
    "\n",
    "class CNN(nn.Module):\n",
    "    def __init__(self, in_channels=3, num_classes=10):\n",
    "        \"\"\"Small CNN model for MNIST.\n",
    "\n",
    "        # Assumes input images are of size (3, 32, 32).\n",
    "        Assumes input images are of size (1, 28, 28).\n",
    "        \"\"\"\n",
    "        super().__init__()\n",
    "        ## Define the layers\n",
    "        self.conv1 = nn.Conv2d(in_channels=in_channels, out_channels=32, kernel_size=5)\n",
    "        self.pool = nn.MaxPool2d(kernel_size=2, stride=2)\n",
    "\n",
    "        self.conv2 = nn.Conv2d(32, 64, kernel_size=5)\n",
    "\n",
    "        self.fc1 = nn.Linear(64 * 4 * 4, 120)\n",
    "        self.fc2 = nn.Linear(120, 84)\n",
    "        self.fc3 = nn.Linear(84, num_classes)\n",
    "\n",
    "    def forward(self, x):\n",
    "        ## Define the forward pass\n",
    "        x = self.pool(torch.relu(self.conv1(x)))\n",
    "        x = self.pool(torch.relu(self.conv2(x)))\n",
    "        x = torch.flatten(x, 1)\n",
    "        x = torch.relu(self.fc1(x))\n",
    "        x = torch.relu(self.fc2(x))\n",
    "        x = self.fc3(x)\n",
    "        return x\n",
    "\n",
    "\n",
    "model = CNN(in_channels=1, num_classes=10)\n",
    "\n",
    "## try with resnet18\n",
    "# import torchvision.models as models\n",
    "# model = models.resnet18(pretrained=True)\n",
    "# model.fc = nn.Linear(model.fc.in_features, 10)\n",
    "\n",
    "\n",
    "## If GPU is available, move model and data to GPU for faster computation, otherwise use CPU\n",
    "\n",
    "print(f\"Using device: {device}\")\n",
    "\n",
    "## Move model to device\n",
    "model = model.to(device)\n",
    "print(model)"
   ]
  },
  {
   "cell_type": "code",
   "execution_count": 1437,
   "metadata": {},
   "outputs": [
    {
     "name": "stdout",
     "output_type": "stream",
     "text": [
      "torch.Size([64, 1, 28, 28])\n",
      "torch.Size([64, 10])\n",
      "torch.Size([64])\n"
     ]
    }
   ],
   "source": [
    "## Predict a sample image\n",
    "\n",
    "## Get a sample image from the data loader (first batch)\n",
    "image, label = next(iter(train_dataloader))\n",
    "## Move image and label to device\n",
    "image = image.to(device)\n",
    "label = label.to(device)\n",
    "\n",
    "## Apply the model to the image\n",
    "pred = model(image)\n",
    "\n",
    "print(image.shape)\n",
    "print(pred.shape)\n",
    "print(label.shape)"
   ]
  },
  {
   "cell_type": "code",
   "execution_count": 1438,
   "metadata": {},
   "outputs": [
    {
     "data": {
      "image/png": "[encoded data removed]",
      "text/plain": [
       "<Figure size 1300x200 with 2 Axes>"
      ]
     },
     "metadata": {},
     "output_type": "display_data"
    }
   ],
   "source": [
    "## Show confidence scores for each class for the first sample\n",
    "fig, ax = plt.subplots(1, 2, figsize=(13, 2))\n",
    "ax[0].imshow(image[0].permute(1, 2, 0).cpu().numpy())\n",
    "ax[0].set_title(f\"True label: {classes[label[0].item()]}\")\n",
    "ax[1].bar(classes, pred[0].softmax(0).detach().cpu().numpy())\n",
    "ax[1].set_ylim([0, 1])\n",
    "ax[1].set_title(\"Confidence scores\")\n",
    "plt.tight_layout()\n",
    "plt.show()"
   ]
  },
  {
   "cell_type": "markdown",
   "metadata": {},
   "source": [
    "### 2.3 Loss Function"
   ]
  },
  {
   "cell_type": "markdown",
   "metadata": {},
   "source": [
    "Loss function (also referred to as the objective function, cost function or criterion) does 2 things:\n",
    "1. Quantifies how well the model is performing. \n",
    "2. Provides a signal to the optimizer on how to update the weights."
   ]
  },
  {
   "cell_type": "markdown",
   "metadata": {},
   "source": [
    "Loss functions in PyTorch can be regular Python functions, but usually they are implemented as `nn.Module` subclasses and many of them are already implemented in `torch.nn`. Two loss functions we have seen before are the cross-entropy loss (in combination with softmax) and the mean squared error loss. We will use the cross-entropy loss in this tutorial.\n",
    "Below you can see two versions of cross-entropy-loss. One form the pytorch library, but also a manual implementation. I wanted you to know that loss functions in pytorch are just functions that take the predictions and the targets as input and return a scalar value. PyTorch have many implemented that are optimized for speed and numerical stability, but usually, the manual implementation is a good way to understand what is going on and the penalty is usually not that big since the loss function is only calculated once per batch anyway and does not contribute that much to the total training time. "
   ]
  },
  {
   "cell_type": "code",
   "execution_count": 0,
   "metadata": {},
   "outputs": [],
   "source": [
    "loss_function = nn.CrossEntropyLoss()"
   ]
  },
  {
   "cell_type": "code",
   "execution_count": 0,
   "metadata": {},
   "outputs": [
    {
     "name": "stdout",
     "output_type": "stream",
     "text": [
      "torch version:  tensor(2.2999, grad_fn=<NllLossBackward0>)\n",
      "manual version:  tensor(2.2999, grad_fn=<DivBackward0>)\n"
     ]
    }
   ],
   "source": [
    "def home_made_cross_entropy(pred, target):\n",
    "    ## Compute the softmax of the predictions\n",
    "    ## softmax\n",
    "    pred = pred.exp()\n",
    "    pred = pred / pred.sum(1, keepdim=True)\n",
    "\n",
    "    ## Compute the negative log likelihood\n",
    "    loss = 0\n",
    "    for i in range(len(pred)):\n",
    "        ## 1 * log(pred) + 0 * log(1 - pred) = log(pred) for the target class\n",
    "        loss -= pred[i, target[i]].log()\n",
    "    return loss / len(pred)\n",
    "\n",
    "\n",
    "print(\"torch version: \", loss_function(pred, label))\n",
    "print(\"manual version: \", home_made_cross_entropy(pred, label))"
   ]
  },
  {
   "cell_type": "markdown",
   "metadata": {},
   "source": [
    "### 2.4 Optimizer"
   ]
  },
  {
   "cell_type": "markdown",
   "metadata": {},
   "source": [
    "In the lectures, you have seen several optimization algorithms: Gradient Descent, Stochastic Gradient Descent, Adaptable Gradient Descent (AdaGrad), Adaptive Moment Estimation (Adam), and more. \n",
    "\n",
    "The way the optimization algorithms are handled in PyTorch is by defining an **Optimizer** that gets \n",
    "1. `model.parameters()`: The parameters to be optimized (which all have gradients attached to them as we have seen with the tensors). If only fine tuning the head of a pre-trained model, you can pass in only the parameters of the head.\n",
    "2. Hyperparameters to the optimizer such as learning rate, momentum, etc.\n",
    "\n",
    "**Adam** and **SGD** with momentum are common default choices and usually work well, but I encourage you to experiment with different optimizers and hyperparameters to see how they affect the training."
   ]
  },
  {
   "cell_type": "code",
   "execution_count": 0,
   "metadata": {},
   "outputs": [],
   "source": [
    "# optimizer = torch.optim.Adam(model.parameters(), lr=0.01)\n",
    "optimizer = torch.optim.SGD(model.parameters(), lr=0.01, momentum=0.9)"
   ]
  },
  {
   "cell_type": "markdown",
   "metadata": {},
   "source": [
    "### 2.5 Metrics for Evaluation"
   ]
  },
  {
   "cell_type": "markdown",
   "metadata": {},
   "source": [
    "To be able to tell if our model is actually doing well, we need a measure of quality of its predictions. Often, there are pairs of loss functions and metrics that do similar things, but they are usually not exactly the same. The main reason for the difference is that the loss function needs to be differentiable with respect to parameters of the model (for the optimization), while the metric does not. Therefore, the requirements for the metric are more relaxed so the __metric can be more aligned with the actual problem we are trying to solve.__\n",
    "\n",
    "Note that in actual usage, choosing a reasonable metric is a really important parts of a deep learning system. The complexity of deep learning models make them able to model very complex relationships between inputs, but that flexibility is a blessing and a curse. The ability to model arbitrarily complex patterns also means we cannot assume the patterns aren't arbitrarily complex, making validation and interpretation hard.\n",
    "\n",
    "Choosing the right quality measure or **metric** is crucial to understanding how well the model is performing for the purpose it is intended for.\n",
    "\n",
    "In this tutorial we will only use one metric: **accuracy** to start with as the validation is not the main lesson here. However, I encourage you investigate different metrics for your own projects. \n",
    "\n",
    "<!-- \n",
    "Different metrics can give different perspectives on the performance of the model. For example, in a binary classification problem, the accuracy can be misleading if the classes are imbalanced. Eg. if one class makes up 90% of the data, a model that always predicts that class will have 90% accuracy, but still be a horrible model. \n",
    "\n",
    "**Metrics we will use here:**\n",
    "- **Accuracy** is the most common metric for classification problems. It is the ratio of correctly predicted observations to the total observations.\n",
    "- **Precision** is the ratio of correctly predicted positive observations to the total predicted positive observations.\n",
    "- **Recall** is the ratio of correctly predicted positive observations to the all observations in actual class.\n",
    "- **Dice Score** is a metric used for segmentation tasks. It is the harmonic mean of precision and recall, but can also be seen as a sort of overlap measure. \n",
    "\n",
    "\n",
    "This will be used for both validation and monitoring during training. -->"
   ]
  },
  {
   "cell_type": "code",
   "execution_count": 0,
   "metadata": {},
   "outputs": [],
   "source": [
    "def accuracy(soft_pred, target):\n",
    "    \"\"\"The number of correct predictions divided by the number of total predictions.\"\"\"\n",
    "    return (soft_pred.argmax(dim=1) == target).float().mean()"
   ]
  },
  {
   "cell_type": "code",
   "execution_count": 0,
   "metadata": {},
   "outputs": [],
   "source": [
    "def confusion_matrix(soft_pred, target):\n",
    "    \"\"\"Compute the confusion matrix. Rows represent the true class, columns represent the predicted class.\n",
    "    This can be useful for understanding which classes are being confused.\"\"\"\n",
    "    num_samples = soft_pred.shape[0]\n",
    "    num_classes = soft_pred.shape[1]\n",
    "    confusion_matrix = torch.zeros(num_classes, num_classes)\n",
    "    predicted = soft_pred.argmax(1)\n",
    "    for i in range(num_samples):\n",
    "        confusion_matrix[target[i], predicted[i]] += 1\n",
    "    return confusion_matrix"
   ]
  },
  {
   "cell_type": "markdown",
   "metadata": {},
   "source": [
    "> Important: Even before training, we want to measure how good our model is *randomly initialized*. This gives us a baseline and gives us an idea of how good \"as good as random\" is."
   ]
  },
  {
   "cell_type": "markdown",
   "metadata": {},
   "source": [
    "### 2.6 Evaluation of the Model (baseline)"
   ]
  },
  {
   "cell_type": "markdown",
   "metadata": {},
   "source": [
    "How good does our model do? Let's evaluate it on the validation set before training starts to get a baseline. "
   ]
  },
  {
   "cell_type": "code",
   "execution_count": 0,
   "metadata": {},
   "outputs": [],
   "source": [
    "def evaluate(model, dataloader):\n",
    "    ## Set model to evaluation mode (important for dropout and batch normalization layers)\n",
    "    model.eval()\n",
    "    ## Initialize tracking variables\n",
    "    loss_track = 0\n",
    "    acc_track = 0\n",
    "\n",
    "    ## Initialize confusion matrix\n",
    "    con_mat_track = torch.zeros(10, 10)\n",
    "\n",
    "    with torch.inference_mode():  ## also works with torch.no_grad(), but torch.inference_mode() is more explicit, future-proof and preferred\n",
    "        for inputs, labels in dataloader:\n",
    "            ## Move data to device\n",
    "            inputs = inputs.to(device)\n",
    "            labels = labels.to(device)\n",
    "\n",
    "            ## Forward pass\n",
    "            outputs = model(inputs)\n",
    "\n",
    "            ## Compute loss\n",
    "            loss = loss_function(outputs, labels)\n",
    "\n",
    "            ## Compute metrics\n",
    "            acc = accuracy(outputs, labels)\n",
    "            con_mat = confusion_matrix(outputs, labels)\n",
    "\n",
    "            ## Update statistics\n",
    "            loss_track += loss.item()\n",
    "            acc_track += acc\n",
    "            con_mat_track += con_mat\n",
    "\n",
    "        ## Compute average loss and accuracy\n",
    "        loss_track /= len(dataloader)\n",
    "        acc_track /= len(dataloader)\n",
    "    return loss, acc, con_mat_track"
   ]
  },
  {
   "cell_type": "code",
   "execution_count": 0,
   "metadata": {},
   "outputs": [],
   "source": [
    "def plot_confusion_matrix(cm):\n",
    "    fig, ax = plt.subplots(figsize=(4, 4))\n",
    "    ax.matshow(cm, cmap=\"Blues\")\n",
    "    for i in range(cm.shape[0]):\n",
    "        for j in range(cm.shape[1]):\n",
    "            ax.text(i, j, f\"{cm[j, i]:.0f}\", ha=\"center\", va=\"center\")\n",
    "\n",
    "    plt.xlabel(\"Predicted label\")\n",
    "    plt.ylabel(\"True label\")\n",
    "\n",
    "    plt.xticks(range(10))\n",
    "    plt.yticks(range(10))\n",
    "    plt.tight_layout()\n",
    "    plt.show()"
   ]
  },
  {
   "cell_type": "code",
   "execution_count": 0,
   "metadata": {},
   "outputs": [
    {
     "name": "stdout",
     "output_type": "stream",
     "text": [
      "Before training: Val loss = 2.2991, Val accuracy = 0.1250\n",
      "Confusion matrix:\n"
     ]
    },
    {
     "data": {
      "image/png": "[encoded data removed]",
      "text/plain": [
       "<Figure size 400x400 with 1 Axes>"
      ]
     },
     "metadata": {},
     "output_type": "display_data"
    }
   ],
   "source": [
    "## Evaluate the model on the validation set\n",
    "val_loss, val_acc, con_mat = evaluate(model.to(device), val_dataloader)\n",
    "print(f\"Before training: Val loss = {val_loss:.4f}, Val accuracy = {val_acc:.4f}\")\n",
    "print(\"Confusion matrix:\")\n",
    "plot_confusion_matrix(con_mat)"
   ]
  },
  {
   "cell_type": "markdown",
   "metadata": {},
   "source": [
    "What types of errors are we making? Let's remove the diagonal from the confusion matrix (where the prediction and the true class are the same) to get a more fine grain understanding of the errors."
   ]
  },
  {
   "cell_type": "code",
   "execution_count": 0,
   "metadata": {},
   "outputs": [
    {
     "data": {
      "image/png": "[encoded data removed]",
      "text/plain": [
       "<Figure size 400x400 with 1 Axes>"
      ]
     },
     "metadata": {},
     "output_type": "display_data"
    }
   ],
   "source": [
    "## Subtract the diagonal to only show the errors\n",
    "con_mat_non_diag = con_mat - torch.eye(10) * con_mat.diag()\n",
    "plot_confusion_matrix(con_mat_non_diag)"
   ]
  },
  {
   "cell_type": "markdown",
   "metadata": {},
   "source": [
    "### 2.7 Train model (forward, backward, update parameters)"
   ]
  },
  {
   "cell_type": "code",
   "execution_count": 0,
   "metadata": {},
   "outputs": [],
   "source": [
    "def train_one_step(model, inputs, labels, loss_function, optimizer):\n",
    "    inputs = inputs.to(device)\n",
    "    labels = labels.to(device)\n",
    "\n",
    "    ## Zero the gradients from last gradient update (otherwise they accumulate)\n",
    "    optimizer.zero_grad()\n",
    "\n",
    "    ## Forward pass\n",
    "    outputs = model(inputs)\n",
    "\n",
    "    ## Compute loss\n",
    "    batch_loss = loss_function(outputs, labels)\n",
    "\n",
    "    ## Backward pass\n",
    "    batch_loss.backward()\n",
    "    optimizer.step()\n",
    "\n",
    "    ## Compute metrics\n",
    "    batch_acc = accuracy(outputs, labels)\n",
    "    return batch_loss, batch_acc\n",
    "\n",
    "\n",
    "def train_one_epoch(model, dataloader):\n",
    "    ## Set model in training mode\n",
    "    model.train()\n",
    "\n",
    "    loss = 0\n",
    "    acc = 0\n",
    "\n",
    "    for inputs, labels in dataloader:\n",
    "        batch_loss, batch_acc = train_one_step(\n",
    "            model, inputs, labels, loss_function, optimizer\n",
    "        )\n",
    "        ## Update statistics\n",
    "        loss += batch_loss.item()\n",
    "        acc += batch_acc\n",
    "\n",
    "    ## Compute average loss and accuracy\n",
    "    loss /= len(dataloader)\n",
    "    acc /= len(dataloader)\n",
    "    return loss, acc"
   ]
  },
  {
   "cell_type": "code",
   "execution_count": 0,
   "metadata": {},
   "outputs": [
    {
     "name": "stdout",
     "output_type": "stream",
     "text": [
      "Loss: 2.2965, Accuracy: 0.0781\n"
     ]
    }
   ],
   "source": [
    "## Try training a single batch to see if the training step works\n",
    "## run several times to see how the loss and accuracy change over time\n",
    "x, y = next(iter(train_dataloader))\n",
    "batch_loss, batch_acc = train_one_step(model, x, y, loss_function, optimizer)\n",
    "print(f\"Loss: {batch_loss:.4f}, Accuracy: {batch_acc:.4f}\")"
   ]
  },
  {
   "cell_type": "code",
   "execution_count": 0,
   "metadata": {},
   "outputs": [
    {
     "name": "stdout",
     "output_type": "stream",
     "text": [
      "Epoch 1: Train loss = 2.2897, val acc = 0.2331 | Val loss = 2.2655, val acc = 0.3202\n",
      "Epoch 2: Train loss = 2.1251, val acc = 0.5101 | Val loss = 1.6139, val acc = 0.6607\n",
      "Epoch 3: Train loss = 0.7437, val acc = 0.8017 | Val loss = 0.4250, val acc = 0.8661\n",
      "Epoch 4: Train loss = 0.3268, val acc = 0.9026 | Val loss = 0.2521, val acc = 0.9286\n",
      "Epoch 5: Train loss = 0.2346, val acc = 0.9295 | Val loss = 0.2005, val acc = 0.9503\n",
      "Epoch 6: Train loss = 0.1877, val acc = 0.9436 | Val loss = 0.1540, val acc = 0.9630\n",
      "Epoch 7: Train loss = 0.1560, val acc = 0.9524 | Val loss = 0.1310, val acc = 0.9668\n",
      "Epoch 8: Train loss = 0.1356, val acc = 0.9593 | Val loss = 0.1054, val acc = 0.9694\n",
      "Epoch 9: Train loss = 0.1181, val acc = 0.9641 | Val loss = 0.1092, val acc = 0.9694\n"
     ]
    }
   ],
   "source": [
    "report_template = \"Epoch {}: Train loss = {:.4f}, Train acc = {:.4f} | Val loss = {:.4f}, val acc = {:.4f}\"\n",
    "for epoch in range(1, 10):\n",
    "    train_loss, train_acc = train_one_epoch(model, train_dataloader)\n",
    "    val_loss, val_acc, con_mat = evaluate(model, val_dataloader)\n",
    "\n",
    "    print(report_template.format(epoch, train_loss, train_acc, val_loss, val_acc))"
   ]
  },
  {
   "cell_type": "markdown",
   "metadata": {},
   "source": [
    "### 2.8 Evaluate model performance on test set\n",
    "This is the final evaluation of the model. We have already evaluated the model on the validation set, but the test set is the final evaluation of the model. The reason we should not evaluate too much on the test set is simply to make sure we do not overfit to the test set. We want the test set to represent what you could expect the model to perform on unseen data. If you evaluate 1000 different models on the test set and pick the best one, we have essentially optimized (inefficently) on the test set and cannot expect the same performance on unseen data anymore. "
   ]
  },
  {
   "cell_type": "code",
   "execution_count": 0,
   "metadata": {},
   "outputs": [
    {
     "name": "stdout",
     "output_type": "stream",
     "text": [
      "Test loss = 2.2855, Test accuracy = 0.1250\n"
     ]
    },
    {
     "data": {
      "image/png": "[encoded data removed]",
      "text/plain": [
       "<Figure size 400x400 with 1 Axes>"
      ]
     },
     "metadata": {},
     "output_type": "display_data"
    },
    {
     "name": "stdout",
     "output_type": "stream",
     "text": [
      "Show non-diagonal again to see errors better\n"
     ]
    },
    {
     "data": {
      "image/png": "[encoded data removed]",
      "text/plain": [
       "<Figure size 400x400 with 1 Axes>"
      ]
     },
     "metadata": {},
     "output_type": "display_data"
    }
   ],
   "source": [
    "## Evaluate the model on the test set\n",
    "test_loss, test_acc, con_mat = evaluate(model, test_dataloader)\n",
    "print(f\"Test loss = {test_loss:.4f}, Test accuracy = {test_acc:.4f}\")\n",
    "plot_confusion_matrix(con_mat)\n",
    "print(\"Show non-diagonal again to see errors better\")\n",
    "plot_confusion_matrix(con_mat - torch.eye(10) * con_mat.diag())"
   ]
  },
  {
   "cell_type": "code",
   "execution_count": 0,
   "metadata": {},
   "outputs": [
    {
     "data": {
      "image/png": "[encoded data removed]",
      "text/plain": [
       "<Figure size 1500x500 with 20 Axes>"
      ]
     },
     "metadata": {},
     "output_type": "display_data"
    }
   ],
   "source": [
    "## Notice that we need to move the model to the cpu here since we are getting the data from the test_dataset which is on the cpu in plot_examples\n",
    "plot_examples(test_dataset, model=model.to(\"cpu\"))"
   ]
  },
  {
   "cell_type": "markdown",
   "metadata": {},
   "source": [
    "Below is a bit of code to show the errors made by the model. \n",
    "Do you think the errors make sense?\n",
    "\n",
    "What do you think this says about the trustworthiness of the model?"
   ]
  },
  {
   "cell_type": "code",
   "execution_count": 0,
   "metadata": {},
   "outputs": [
    {
     "name": "stdout",
     "output_type": "stream",
     "text": [
      "Number of mistakes: 8990\n"
     ]
    },
    {
     "data": {
      "image/png": "[encoded data removed]",
      "text/plain": [
       "<Figure size 1500x500 with 20 Axes>"
      ]
     },
     "metadata": {},
     "output_type": "display_data"
    }
   ],
   "source": [
    "def find_mistakes(dataset, model):\n",
    "    mistakes = []\n",
    "    for img, label in dataset:\n",
    "        pred = model(img.unsqueeze(0)).argmax()\n",
    "        if pred != label:\n",
    "            mistakes.append((img, label, pred))\n",
    "    return mistakes\n",
    "\n",
    "\n",
    "def show_some_mistakes(mistakes):\n",
    "    fig, axes = plt.subplots(2, 10, figsize=(15, 5))\n",
    "    axes = axes.ravel()\n",
    "    for i, (img, label, pred) in enumerate(mistakes):\n",
    "        ax = axes[i]\n",
    "        ax.imshow(img[0], cmap=\"gray\")\n",
    "        ax.set_title(f\"Label: {label}\\nPred: {pred}\")\n",
    "        ax.axis(\"off\")\n",
    "\n",
    "        ## Show only 20 mistakes to avoid clutter and simply ignore the rest for now\n",
    "        if i == 19:\n",
    "            break\n",
    "    plt.tight_layout()\n",
    "    plt.show()\n",
    "\n",
    "\n",
    "mistakes = find_mistakes(test_dataset, model)\n",
    "print(f\"Number of mistakes: {len(mistakes)}\")\n",
    "show_some_mistakes(mistakes)"
   ]
  },
  {
   "cell_type": "markdown",
   "metadata": {},
   "source": [
    "### 2.9 Save and load model"
   ]
  },
  {
   "cell_type": "code",
   "execution_count": 0,
   "metadata": {},
   "outputs": [
    {
     "data": {
      "image/png": "[encoded data removed]",
      "text/plain": [
       "<Figure size 1300x200 with 2 Axes>"
      ]
     },
     "metadata": {},
     "output_type": "display_data"
    }
   ],
   "source": [
    "## save model\n",
    "torch.save(model.state_dict(), \"model.pth\")\n",
    "\n",
    "dummy_input = torch.randn(1, 1, 28, 28)\n",
    "\n",
    "## load model\n",
    "model = CNN(in_channels=1, num_classes=10)\n",
    "model.load_state_dict(torch.load(\"model.pth\", weights_only=True))\n",
    "\n",
    "\n",
    "## Inference with PyTorch model\n",
    "model.eval()\n",
    "torch_outs = model(dummy_input)\n",
    "\n",
    "## plot image with prediction confidence scores\n",
    "fig, ax = plt.subplots(1, 2, figsize=(13, 2))\n",
    "ax[0].imshow(dummy_input[0, 0].detach().numpy(), cmap=\"gray\")\n",
    "ax[0].set_title(\"Input image\")\n",
    "ax[1].bar(classes, torch_outs[0].softmax(0).detach().numpy())\n",
    "ax[1].set_ylim([0, 1])\n",
    "ax[1].set_title(\"Confidence scores\")\n",
    "plt.tight_layout()\n",
    "plt.show()"
   ]
  },
  {
   "cell_type": "markdown",
   "metadata": {},
   "source": [
    "**NOTICE!** how unpredictible and often confident the results are here. We are giving the model random noise and asking it to predict which digit it looks like based on its training. The most reasonable response would be as if the model had not trained, just a uniform distribution, but this is not what it gives us. We know that the model works almost perfect on the test set. However, this data looks nothing like the data it was trained on. When this happens we cannot trust the model, even though it has high confidence. \n",
    "\n",
    "Figuring out the limitations or bounds of understanding of a deep learning model is one of the major difficulties in deep learning in general. And thinking about how to test and validate the model is a very important part of the process. I encourage you to think hard about this when you are working on your own projects."
   ]
  },
  {
   "cell_type": "markdown",
   "metadata": {},
   "source": [
    "### 2.10 Diagnosing and Fixing Problems"
   ]
  },
  {
   "cell_type": "markdown",
   "metadata": {},
   "source": [
    "During training, it's common to encounter issues that show up in your training and validation loss or accuracy curves. \n",
    "- If the **training loss decreases but validation loss increases**, you're likely **overfitting** — try fewer training epochs, reducing model capacity (size), adding **regularization** such as **weight decay (L2 regularization)** or **dropout** and maybe apply **data augmentation** or get more data if you can. \n",
    "- If **both training and validation loss stay high**, your model may be **underfitting** — try **train longer**, reduce the **learning rate**, or a **larger model**. \n",
    "- If the loss **fluctuates heavily** or fails to improve, your **learning rate may be too high** - try lowering it. \n",
    "- If training is **very slow** or the loss decreases only marginally, the **learning rate may be too low**. \n",
    "- Also consider whether your **model is too small for the task**, or your **batch size is too small**, which can make **optimization noisy**.\n",
    "- **batch_size** is often a power of 2, but it is not a strict rule. It is often a good idea to try different batch sizes to see how it affects the training. In classification, where each sample does not provide that much information about the data, a batch size between `32` and `256` is common. In semantic segmentation, where each sample is a whole image, smaller batch of maybe even `2` to `16` is more common (also because of limitations of gpu memory). \n",
    "\n",
    "Generally, we don't want the training loss to fluctuate too much since the model might never find a good solution. However, we don't want the training to be too smooth either; since it typically leads to settling at a local minima (a suboptimal solution).\n",
    "\n",
    "**Always monitor both loss and metrics on training and validation sets — they’re your most reliable tools for diagnosing training behavior!**\n"
   ]
  },
  {
   "cell_type": "markdown",
   "metadata": {},
   "source": [
    "### Part 2.11: Custom Dataset"
   ]
  },
  {
   "cell_type": "markdown",
   "metadata": {},
   "source": [
    "Making custom datasets is relatively easy in PyTorch. You need to subclass `torch.utils.data.Dataset` and implement `__len__` and `__getitem__`.\n",
    "\n",
    "- `__len__` returns the size of the dataset and is the method that is called when running `len(dataset)`.\n",
    "- `__getitem__` is used to retrieve a sample from the dataset at a given index such as `dataset[0]`.\n",
    "\n",
    "See the example below:"
   ]
  },
  {
   "cell_type": "code",
   "execution_count": 0,
   "metadata": {},
   "outputs": [
    {
     "name": "stdout",
     "output_type": "stream",
     "text": [
      "torch.Size([2, 1, 28, 28]) torch.Size([2, 1])\n"
     ]
    }
   ],
   "source": [
    "## Example\n",
    "from torch.utils.data import Dataset\n",
    "\n",
    "\n",
    "class CustomDataset(Dataset):\n",
    "    def __init__(self, data_arg=None):\n",
    "        super().__init__()\n",
    "        self.n_data_points = 100\n",
    "        self.data_arg = data_arg\n",
    "\n",
    "    def __len__(self):\n",
    "        return self.n_data_points\n",
    "\n",
    "    def __getitem__(self, idx):\n",
    "        dummy_input_data = torch.randn(1, 28, 28)\n",
    "        dummy_label = torch.randint(0, 10, (1,))\n",
    "        return dummy_input_data, dummy_label\n",
    "\n",
    "\n",
    "dataset = CustomDataset()\n",
    "dataloader = torch.utils.data.DataLoader(dataset, batch_size=2, shuffle=True)\n",
    "\n",
    "for inputs, labels in dataloader:\n",
    "    print(inputs.shape, labels.shape)\n",
    "    break"
   ]
  },
  {
   "cell_type": "markdown",
   "metadata": {},
   "source": []
  },
  {
   "cell_type": "markdown",
   "metadata": {},
   "source": [
    "## Part 3: Modify and Experiment with the Pipeline"
   ]
  },
  {
   "cell_type": "markdown",
   "metadata": {},
   "source": [
    "Now we have some tasks for you to use what we have covered. In the lab session, you will be given the same code illustrated above (for data loading, model definition, and training loop). Your tasks is to make modifications and observing the effects. Here are the specific exercises: \n",
    "\n",
    "1. **Swap the Dataset:** Modify the code to train the CNN on a different image dataset. You can use a built-in dataset like CIFAR-10 (comment out above), FashionMNIST or others. This exercise will help you understand how to swap datasets in PyTorch and observe how the model performs on different data distributions. Also, you will probably have to make some adaptations to the model itself to accept the size of the data you are using.\n",
    "\n",
    "2. **Modify the Model Architecture:** Increase or decrease the complexity of the model and observe the impact. For instance, add an additional convolutional layer (making it three conv layers in total), or increase the number of neurons in the fully connected layers, or insert a `nn.Dropout` layer after `conv2` or between the FC layers. Train the modified model for a few epochs. Does it achieve lower training loss or higher accuracy? Also watch if it overfits more quickly due to increased capacity. \n",
    "\n",
    "3. **Tweak Training Hyperparameters:** Experiment with the training loop settings. Try a higher learning rate (e.g. 0.1) and see if the model converges faster or if it becomes unstable. Alternatively, change the batch size (e.g. 512 or 2 instead of 64) – note how that affects the training speed per epoch and the stability of updates. You can also enable weight decay in the optimizer (e.g. `optim.SGD(..., weight_decay=1e-4)`) which adds restrictions on the absolute size the weights. This limits the model and combats overfitting. The purpose here is to develop intuition on how hyperparameters like learning rate and batch size influence the training. \n",
    "\n",
    "4. **Convert to an Autoencoder:** An autoencoder is a network trained to reconstruct its input as we have seen in the lectures. Try modifying the CNN architecture into an autoencoder. For example, use the current CNN as an **encoder** (downsampling image to a feature vector), then add a **decoder** that mirrors it (up-sampling back to the original image size using transpose convolutions or interpolation). Train the autoencoder on a dataset of images where the “labels” are the inputs themselves. Note that this would be regression instead of classification so you will need to change not only the data and the model, but also the loss function.\n"
   ]
  },
  {
   "cell_type": "markdown",
   "metadata": {},
   "source": [
    "## Summary\n",
    "In this tutorial, we have discussed the basics of working with PyTorch tensors, including moving computations to the GPU, getting gradients with `autograd`, and converting between NumPy arrays and PyTorch tensors. \n",
    "\n",
    "We then built and trained a simple CNN from scratch, covering the key components of a deep learning pipeline: \n",
    "- datasets\n",
    "- model architecture\n",
    "- loss functions\n",
    "- optimizers\n",
    "- evaluation metrics\n",
    "- training and evaluation loops\n",
    "- saving and loading models\n",
    "- diagnosing and fixing training issues\n",
    "\n",
    "Finally, we provided a few exercises to help you experiment with the pipeline."
   ]
  }
 ],
 "metadata": {
  "kernelspec": {
   "display_name": ".venv",
   "language": "python",
   "name": "python3"
  },
  "language_info": {
   "codemirror_mode": {
    "name": "ipython",
    "version": 3
   },
   "file_extension": ".py",
   "mimetype": "text/x-python",
   "name": "python",
   "nbconvert_exporter": "python",
   "pygments_lexer": "ipython3",
   "version": "3.13.1"
  }
 },
 "nbformat": 4,
 "nbformat_minor": 2
}
